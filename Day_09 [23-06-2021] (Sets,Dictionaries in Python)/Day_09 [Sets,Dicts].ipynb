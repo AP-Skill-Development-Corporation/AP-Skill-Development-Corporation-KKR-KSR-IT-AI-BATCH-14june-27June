{
 "cells": [
  {
   "cell_type": "code",
   "execution_count": null,
   "id": "a7d2a262",
   "metadata": {},
   "outputs": [],
   "source": [
    "#Agenda of the day:\n",
    "                    1. Sets in Python\n",
    "                    2. Dictionaries in Python\n",
    "                    3. Regular Expressions in Python"
   ]
  },
  {
   "cell_type": "code",
   "execution_count": null,
   "id": "480cbadb",
   "metadata": {},
   "outputs": [],
   "source": [
    "#Sets:(union & Intersection)"
   ]
  },
  {
   "cell_type": "code",
   "execution_count": 1,
   "id": "179521d3",
   "metadata": {},
   "outputs": [
    {
     "name": "stdout",
     "output_type": "stream",
     "text": [
      "['__and__', '__class__', '__contains__', '__delattr__', '__dir__', '__doc__', '__eq__', '__format__', '__ge__', '__getattribute__', '__gt__', '__hash__', '__iand__', '__init__', '__init_subclass__', '__ior__', '__isub__', '__iter__', '__ixor__', '__le__', '__len__', '__lt__', '__ne__', '__new__', '__or__', '__rand__', '__reduce__', '__reduce_ex__', '__repr__', '__ror__', '__rsub__', '__rxor__', '__setattr__', '__sizeof__', '__str__', '__sub__', '__subclasshook__', '__xor__', 'add', 'clear', 'copy', 'difference', 'difference_update', 'discard', 'intersection', 'intersection_update', 'isdisjoint', 'issubset', 'issuperset', 'pop', 'remove', 'symmetric_difference', 'symmetric_difference_update', 'union', 'update'] "
     ]
    }
   ],
   "source": [
    "print(dir(set),end=\" \")"
   ]
  },
  {
   "cell_type": "code",
   "execution_count": 12,
   "id": "fb9fe531",
   "metadata": {},
   "outputs": [
    {
     "name": "stdout",
     "output_type": "stream",
     "text": [
      "before clear: {1, 2, 3, 4, 5, 'Wednesday', 90, 1050, 30, (10, 30, 50, 90, 'Wednesday')}\n",
      "after clear: set()\n"
     ]
    }
   ],
   "source": [
    "#Copy() and clear() pop():\n",
    "s1 = {1,2,3,4,5}\n",
    "s2 = {}\n",
    "s2= s1.copy()\n",
    "s2.add((10,30,50,90,\"Wednesday\")) #to add single element to set\n",
    "s2.update([10,50,30,90,\"Wednesday\"])  #to add individual elements\n",
    "print(\"before clear:\",s2)\n",
    "s2.clear()                    #To clear all contents of the set\n",
    "print(\"after clear:\",s2)"
   ]
  },
  {
   "cell_type": "code",
   "execution_count": 31,
   "id": "ab6c80c1",
   "metadata": {},
   "outputs": [
    {
     "ename": "KeyError",
     "evalue": "'pop from an empty set'",
     "output_type": "error",
     "traceback": [
      "\u001b[1;31m---------------------------------------------------------------------------\u001b[0m",
      "\u001b[1;31mKeyError\u001b[0m                                  Traceback (most recent call last)",
      "\u001b[1;32m<ipython-input-31-c15df6bcfbff>\u001b[0m in \u001b[0;36m<module>\u001b[1;34m\u001b[0m\n\u001b[0;32m     11\u001b[0m \u001b[0ms2\u001b[0m\u001b[1;33m.\u001b[0m\u001b[0mpop\u001b[0m\u001b[1;33m(\u001b[0m\u001b[1;33m)\u001b[0m\u001b[1;33m\u001b[0m\u001b[1;33m\u001b[0m\u001b[0m\n\u001b[0;32m     12\u001b[0m \u001b[0ms2\u001b[0m\u001b[1;33m.\u001b[0m\u001b[0mpop\u001b[0m\u001b[1;33m(\u001b[0m\u001b[1;33m)\u001b[0m\u001b[1;33m\u001b[0m\u001b[1;33m\u001b[0m\u001b[0m\n\u001b[1;32m---> 13\u001b[1;33m \u001b[0ms2\u001b[0m\u001b[1;33m.\u001b[0m\u001b[0mpop\u001b[0m\u001b[1;33m(\u001b[0m\u001b[1;33m)\u001b[0m\u001b[1;33m\u001b[0m\u001b[1;33m\u001b[0m\u001b[0m\n\u001b[0m",
      "\u001b[1;31mKeyError\u001b[0m: 'pop from an empty set'"
     ]
    }
   ],
   "source": [
    "#pop(): (Its deletes the one elements at a time randomly)\n",
    "s2 = {1, 2, 3, 4, 5, 'Wednesday', 90, 1050, 30, (10, 30, 50, 90, 'Wednesday')}\n",
    "s2.pop()\n",
    "s2.pop()\n",
    "s2.pop()\n",
    "s2.pop()\n",
    "s2.pop()\n",
    "s2.pop()\n",
    "s2.pop()\n",
    "s2.pop()\n",
    "s2.pop()\n",
    "s2.pop()\n",
    "s2.pop()"
   ]
  },
  {
   "cell_type": "code",
   "execution_count": null,
   "id": "3e52cd19",
   "metadata": {},
   "outputs": [],
   "source": [
    "#Set Difference:\n",
    "                A-B---result remaining elements of A\n",
    "                B-A---resutt remaining elements of B"
   ]
  },
  {
   "cell_type": "code",
   "execution_count": 36,
   "id": "32913f91",
   "metadata": {},
   "outputs": [
    {
     "name": "stdout",
     "output_type": "stream",
     "text": [
      "{1, 2, 3}\n",
      "{8, 6, 7}\n",
      "{1, 2, 3}\n",
      "{8, 6, 7}\n"
     ]
    }
   ],
   "source": [
    "#Ex:\n",
    "SetA = {1,2,3,4,5}\n",
    "SetB = {4,5,6,7,8}\n",
    "#Difference can be done by \"-\" operator\n",
    "print(SetA-SetB)\n",
    "print(SetB-SetA)\n",
    "#using method:\n",
    "print(SetA.difference(SetB))\n",
    "print(SetB.difference(SetA))"
   ]
  },
  {
   "cell_type": "code",
   "execution_count": 41,
   "id": "7c35cfd0",
   "metadata": {
    "scrolled": true
   },
   "outputs": [
    {
     "name": "stdout",
     "output_type": "stream",
     "text": [
      "{1, 2, 3, 6, 7, 8}\n",
      "{1, 2, 3, 6, 7, 8}\n",
      "{1, 2, 3, 6, 7, 8}\n",
      "{1, 2, 3, 6, 7, 8}\n"
     ]
    }
   ],
   "source": [
    "#Set Symmetric Difference:\n",
    "#To get elements in A and B sets but not intersection values\n",
    "SetA = {1,2,3,4,5}\n",
    "SetB = {4,5,6,7,8}\n",
    "print(SetA ^ SetB)\n",
    "print(SetB ^ SetA)\n",
    "#using method:\n",
    "print(SetA.symmetric_difference(SetB))\n",
    "print(SetB.symmetric_difference(SetA))"
   ]
  },
  {
   "cell_type": "code",
   "execution_count": null,
   "id": "4f43035a",
   "metadata": {},
   "outputs": [],
   "source": [
    "#set Difference_update:\n",
    "#Syntax:\n",
    "A.difference_update(B)\n",
    "#result be\n",
    " 1. A will be updated with difference(A-B)\n",
    " 2. B will not change\n",
    " 3. Result will be none object."
   ]
  },
  {
   "cell_type": "code",
   "execution_count": 48,
   "id": "5d6517b9",
   "metadata": {},
   "outputs": [
    {
     "name": "stdout",
     "output_type": "stream",
     "text": [
      "None\n",
      "{1, 5}\n",
      "{2, 3, 4}\n"
     ]
    }
   ],
   "source": [
    "#Ex:\n",
    "A = {1,2,3,4,5}\n",
    "B = {2,3,4}\n",
    "res=A.difference_update(B)\n",
    "print(res)\n",
    "print(A)\n",
    "print(B)"
   ]
  },
  {
   "cell_type": "code",
   "execution_count": null,
   "id": "768c1410",
   "metadata": {},
   "outputs": [],
   "source": [
    "#symmetric_difference_update():\n",
    "#Syntax:\n",
    "A.symmetric_difference_update(B)\n",
    "#result be\n",
    " 1. Set A will be updated with symmetric difference of Set A and Set B\n",
    " 2. Set B will not change\n",
    " 3. Result will be none object."
   ]
  },
  {
   "cell_type": "code",
   "execution_count": 54,
   "id": "ca97686d",
   "metadata": {},
   "outputs": [
    {
     "name": "stdout",
     "output_type": "stream",
     "text": [
      "None\n",
      "{1, 5, 6, 8}\n",
      "{2, 3, 4, 6, 8}\n"
     ]
    }
   ],
   "source": [
    "#Ex:\n",
    "A = {1,2,3,4,5}\n",
    "B = {2,3,4,6,8}\n",
    "res=A.symmetric_difference_update(B)\n",
    "print(res)\n",
    "print(A)\n",
    "print(B)"
   ]
  },
  {
   "cell_type": "code",
   "execution_count": null,
   "id": "5d7bb07f",
   "metadata": {},
   "outputs": [],
   "source": [
    "#Boolean Operations(issubset(),issuperset(),isdisjoint()):\n",
    "\n",
    "#Superset: if SetA contains all elements of SetB--then A is Superset of B\n",
    "#Subset:  if all elements of a are in B.\n",
    "#disjoint : set a and set b havent common values."
   ]
  },
  {
   "cell_type": "code",
   "execution_count": 59,
   "id": "3c0851b7",
   "metadata": {},
   "outputs": [
    {
     "name": "stdout",
     "output_type": "stream",
     "text": [
      "True\n",
      "False\n",
      "True\n",
      "True\n"
     ]
    }
   ],
   "source": [
    "#issuperset():\n",
    "A = {1,2,3,4,5}\n",
    "B = {1,2,3}\n",
    "C = {1,2,3}\n",
    "print(A.issuperset(B))\n",
    "print(B.issuperset(A))\n",
    "print(C.issuperset(B))\n",
    "print(B.issuperset(C))"
   ]
  },
  {
   "cell_type": "code",
   "execution_count": 64,
   "id": "ec4e5549",
   "metadata": {},
   "outputs": [
    {
     "name": "stdout",
     "output_type": "stream",
     "text": [
      "True\n",
      "False\n",
      "False\n",
      "True\n"
     ]
    }
   ],
   "source": [
    "#issubset():\n",
    "#Set A is said to be subset of Set B if all elements of A are in B.\n",
    "#syntax: A.issubset(B)\n",
    "A = {1,2,3}\n",
    "B = {1,2,3,4,5}\n",
    "C=  {1,2,4,5}\n",
    "print(A.issubset(B))\n",
    "print(B.issubset(A))\n",
    "print(A.issubset(C))\n",
    "print(C.issubset(B))"
   ]
  },
  {
   "cell_type": "code",
   "execution_count": null,
   "id": "0750531c",
   "metadata": {},
   "outputs": [],
   "source": [
    "#isdisjoint():\n",
    "If two sets are said as disjoint if they have no common elements.\n",
    "#syntax:\n",
    "A.isdisjoint(B)"
   ]
  },
  {
   "cell_type": "code",
   "execution_count": 69,
   "id": "3fff2666",
   "metadata": {},
   "outputs": [
    {
     "name": "stdout",
     "output_type": "stream",
     "text": [
      "True\n",
      "False\n",
      "True\n"
     ]
    }
   ],
   "source": [
    "#Ex:\n",
    "A = {50,60,90,100}\n",
    "B =  {150,200,300,500}\n",
    "C = {60,600,1000}\n",
    "print(A.isdisjoint(B))\n",
    "print(A.isdisjoint(C))\n",
    "print(B.isdisjoint(C))"
   ]
  },
  {
   "cell_type": "code",
   "execution_count": null,
   "id": "64813176",
   "metadata": {},
   "outputs": [],
   "source": [
    "#Dictionaries:\n",
    "--A Dictionary is a Collection of key/value pairs.\n",
    "#syntax:    dict = {key:value}\n",
    "            dict = {1:\"APSSDC\"}\n",
    "#Keypoints:\n",
    "1. Keys are unique, there is no multiple keys for single value\n",
    "2. values are mutable (changeble)\n",
    "3. Its respresented by {} or dict().\n",
    "4. for representing keys we use intergers or strings\n",
    "5. for represeenting values we use any datatype of values."
   ]
  },
  {
   "cell_type": "code",
   "execution_count": 71,
   "id": "4cea70c7",
   "metadata": {},
   "outputs": [
    {
     "name": "stdout",
     "output_type": "stream",
     "text": [
      "<class 'dict'>\n",
      "<class 'dict'>\n"
     ]
    }
   ],
   "source": [
    "#How to create dictionary?\n",
    "dic1 = {}                    #empty dictionary-way1\n",
    "print(type(dic1))\n",
    "dic2 = dict()                  ##empty dictionary-way2\n",
    "print(type(dic2))"
   ]
  },
  {
   "cell_type": "code",
   "execution_count": 84,
   "id": "d18deaa8",
   "metadata": {},
   "outputs": [
    {
     "name": "stdout",
     "output_type": "stream",
     "text": [
      "{1: 'Python', 2: 'Data Science', 3: 'KITS', 4: 'AI', 5: 'Python'}\n",
      "{'Hello': 'Surya', 'Today': 'Wednesday', 'Date': 23, 4: 50.6}\n"
     ]
    }
   ],
   "source": [
    "#How to assign items to Dictionary?\n",
    "dic = {1:\"Python\",2:\"Data Science\",3:\"KITS\",4:\"AI\",5:\"Python\"}\n",
    "dic1 = {\"Hello\":\"Surya\",\"Today\":\"Wednesday\",\"Date\":23,4:50.6}\n",
    "print(dic)\n",
    "print(dic1)"
   ]
  },
  {
   "cell_type": "code",
   "execution_count": 92,
   "id": "43da9b42",
   "metadata": {},
   "outputs": [
    {
     "name": "stdout",
     "output_type": "stream",
     "text": [
      "{1: 'Python', 2: 'Machine Learning', 3: 'KITS', 4: 'AI', 5: 'JAVA', 6: 56, 7: 'PHP', 'Apssdc': 123}\n"
     ]
    }
   ],
   "source": [
    "#Changing and adding items to dictionary:\n",
    "dic = {1:\"Python\",2:\"Data Science\",3:\"KITS\",4:\"AI\",5:\"Python\"}\n",
    "dic[5]=\"JAVA\"   #changing value python to JAVA\n",
    "dic[2]=\"Machine Learning\"\n",
    "dic[6]=\"C Lan\"   #adding new item(key,value pair)\n",
    "dic[7]=\"PHP\"\n",
    "dic[\"Apssdc\"]=123\n",
    "dic[6]=56\n",
    "print(dic)"
   ]
  },
  {
   "cell_type": "code",
   "execution_count": 106,
   "id": "e958f2ae",
   "metadata": {},
   "outputs": [
    {
     "name": "stdout",
     "output_type": "stream",
     "text": [
      "{'Today': 'Wednesday', 'Date': 23, 4: 50.6}\n"
     ]
    }
   ],
   "source": [
    "#Deleting items from Dictinaries?():\n",
    "#(pop(),popitem(),clear())\n",
    "dic = {1:\"Python\",2:\"Data Science\",3:\"KITS\",4:\"AI\",5:\"Python\"}\n",
    "dic1 = {\"Hello\":\"Surya\",\"Today\":\"Wednesday\",\"Date\":23,4:50.6}\n",
    "#dic.pop(3)\n",
    "#dic.pop(2)\n",
    "#dic.pop(4)\n",
    "#dic.pop(5)\n",
    "#dic.pop(1)\n",
    "dic1.pop(\"Hello\")\n",
    "print(dic1)"
   ]
  },
  {
   "cell_type": "code",
   "execution_count": 120,
   "id": "c13c0237",
   "metadata": {},
   "outputs": [
    {
     "name": "stdout",
     "output_type": "stream",
     "text": [
      "{}\n"
     ]
    }
   ],
   "source": [
    "#popitem()\n",
    "dic = {1:\"Python\",2:\"Data Science\",3:\"KITS\",4:\"AI\",5:\"Python\"}\n",
    "dic1 = {\"Hello\":\"Surya\",\"Today\":\"Wednesday\",\"Date\":23,4:50.6}\n",
    "#dic.popitem()\n",
    "#dic1.popitem()\n",
    "dic.clear()\n",
    "print(dic)"
   ]
  },
  {
   "cell_type": "code",
   "execution_count": 132,
   "id": "304d8bac",
   "metadata": {},
   "outputs": [
    {
     "name": "stdout",
     "output_type": "stream",
     "text": [
      "Data Science\n",
      "Python\n",
      "23\n",
      "Surya\n",
      "KITS\n",
      "Wednesday\n"
     ]
    }
   ],
   "source": [
    "#How to accessing items from the dictionary:\n",
    "dic = {1:\"Python\",2:\"Data Science\",3:\"KITS\",4:\"AI\",5:\"Python\"}\n",
    "dic1 = {\"Hello\":\"Surya\",\"Today\":\"Wednesday\",\"Date\":23,4:50.6}\n",
    "print(dic[2])\n",
    "print(dic[5])\n",
    "print(dic1[\"Date\"])\n",
    "print(dic1[\"Hello\"])\n",
    "#2-way of accessing values by passing keys\n",
    "print(dic.get(3))\n",
    "print(dic1.get(\"Today\"))"
   ]
  },
  {
   "cell_type": "code",
   "execution_count": 133,
   "id": "f532e931",
   "metadata": {},
   "outputs": [
    {
     "name": "stdout",
     "output_type": "stream",
     "text": [
      "['__class__', '__contains__', '__delattr__', '__delitem__', '__dir__', '__doc__', '__eq__', '__format__', '__ge__', '__getattribute__', '__getitem__', '__gt__', '__hash__', '__init__', '__init_subclass__', '__iter__', '__le__', '__len__', '__lt__', '__ne__', '__new__', '__reduce__', '__reduce_ex__', '__repr__', '__reversed__', '__setattr__', '__setitem__', '__sizeof__', '__str__', '__subclasshook__', 'clear', 'copy', 'fromkeys', 'get', 'items', 'keys', 'pop', 'popitem', 'setdefault', 'update', 'values'] "
     ]
    }
   ],
   "source": [
    "#Exploring the  dictionary methods:\n",
    "print(dir(dict),end=\" \")"
   ]
  },
  {
   "cell_type": "code",
   "execution_count": 140,
   "id": "317419f2",
   "metadata": {},
   "outputs": [
    {
     "name": "stdout",
     "output_type": "stream",
     "text": [
      "dict_keys([1, 2, 3, 4, 5])\n",
      "dict_keys(['Hello', 'Today', 'Date', 4])\n",
      "dict_values(['Python', 'Data Science', 'KITS', 'AI', 'Python'])\n",
      "dict_values(['Surya', 'Wednesday', 23, 50.6])\n",
      "dict_items([(1, 'Python'), (2, 'Data Science'), (3, 'KITS'), (4, 'AI'), (5, 'Python')])\n",
      "dict_items([('Hello', 'Surya'), ('Today', 'Wednesday'), ('Date', 23), (4, 50.6)])\n"
     ]
    }
   ],
   "source": [
    "#methods():(items(),keys(),values())\n",
    "dic = {1:\"Python\",2:\"Data Science\",3:\"KITS\",4:\"AI\",5:\"Python\"}\n",
    "dic1 = {\"Hello\":\"Surya\",\"Today\":\"Wednesday\",\"Date\":23,4:50.6}\n",
    "print(dic.keys())\n",
    "print(dic1.keys())\n",
    "print(dic.values())\n",
    "print(dic1.values())\n",
    "print(dic.items())\n",
    "print(dic1.items())"
   ]
  },
  {
   "cell_type": "code",
   "execution_count": 149,
   "id": "ec4095df",
   "metadata": {},
   "outputs": [
    {
     "name": "stdout",
     "output_type": "stream",
     "text": [
      "{1: 'Python', 2: 'Data Science', 3: 'KITS', 4: 'AI', 5: 'Python'}\n",
      "{}\n"
     ]
    },
    {
     "ename": "NameError",
     "evalue": "name 'dic' is not defined",
     "output_type": "error",
     "traceback": [
      "\u001b[1;31m---------------------------------------------------------------------------\u001b[0m",
      "\u001b[1;31mNameError\u001b[0m                                 Traceback (most recent call last)",
      "\u001b[1;32m<ipython-input-149-e9f37a9e393f>\u001b[0m in \u001b[0;36m<module>\u001b[1;34m\u001b[0m\n\u001b[0;32m      8\u001b[0m \u001b[0mprint\u001b[0m\u001b[1;33m(\u001b[0m\u001b[0mdic2\u001b[0m\u001b[1;33m)\u001b[0m\u001b[1;33m\u001b[0m\u001b[1;33m\u001b[0m\u001b[0m\n\u001b[0;32m      9\u001b[0m \u001b[1;32mdel\u001b[0m \u001b[0mdic\u001b[0m\u001b[1;33m\u001b[0m\u001b[1;33m\u001b[0m\u001b[0m\n\u001b[1;32m---> 10\u001b[1;33m \u001b[0mprint\u001b[0m\u001b[1;33m(\u001b[0m\u001b[0mdic\u001b[0m\u001b[1;33m)\u001b[0m\u001b[1;33m\u001b[0m\u001b[1;33m\u001b[0m\u001b[0m\n\u001b[0m",
      "\u001b[1;31mNameError\u001b[0m: name 'dic' is not defined"
     ]
    }
   ],
   "source": [
    "#copy() and clear() and del\n",
    "dic = {1:\"Python\",2:\"Data Science\",3:\"KITS\",4:\"AI\",5:\"Python\"}\n",
    "dic2={}\n",
    "dic2 = dic.copy()\n",
    "print(dic2)\n",
    "#dic==dic2\n",
    "dic2.clear()\n",
    "print(dic2)\n",
    "del dic\n",
    "print(dic)"
   ]
  },
  {
   "cell_type": "code",
   "execution_count": 154,
   "id": "738fddd1",
   "metadata": {},
   "outputs": [
    {
     "name": "stdout",
     "output_type": "stream",
     "text": [
      "{1: 100.5, 2: 100.5, 3: 100.5, 4: 100.5, 5: 100.5}\n"
     ]
    }
   ],
   "source": [
    "#fromkeys() \n",
    "#(Its creates a new dictionary from the given sequence of elements \n",
    "#with a value)\n",
    "#syntax: dict.fromkeys(sequence[,value])\n",
    "keys = {1,2,3,4,5}\n",
    "#value = \"Coding is fun\"\n",
    "#value = 1\n",
    "value = 100.5\n",
    "newdict=dict.fromkeys(keys,value)\n",
    "print(newdict)"
   ]
  },
  {
   "cell_type": "code",
   "execution_count": 171,
   "id": "cd1d0b00",
   "metadata": {},
   "outputs": [
    {
     "name": "stdout",
     "output_type": "stream",
     "text": [
      "{1: 'MySQL', 2: 'Data Science', 3: 'KITS', 4: 'AI', 5: 'Python', 8: 'Java Script'}\n",
      "{6: 'New Value'}\n"
     ]
    }
   ],
   "source": [
    "#Update:\n",
    "dic = {1:\"Python\",2:\"Data Science\",3:\"KITS\",4:\"AI\",5:\"Python\"}\n",
    "dic2 = {1:\"Machine Learning\",2:\"C\",3:\"PHP\",4:500,5:90.5}\n",
    "#dic.update(dic2)\n",
    "dic2.update(dic)           #updating one dictionary with another dictionary\n",
    "#print(dic)\n",
    "dic2= {6:\"New Value\"}     #updating the dictionary\n",
    "dic[1]=\"MySQL\"            #changing the values\n",
    "dic[8]=\"Java Script\"      #assiging new item(key,value)\n",
    "print(dic)\n",
    "print(dic2)"
   ]
  },
  {
   "cell_type": "code",
   "execution_count": 175,
   "id": "df2e8da6",
   "metadata": {},
   "outputs": [
    {
     "name": "stdout",
     "output_type": "stream",
     "text": [
      "{'name': 'surya', 'profession': 'Python Trainer'}\n",
      "Python Trainer\n"
     ]
    }
   ],
   "source": [
    "#Set default(): \n",
    "#This method returns the value of a key (if that key is in that\n",
    "#                                 dictionary)\n",
    "    \n",
    "#Syntax: dict.setdefault(key[,default_value])\n",
    "profile = {\"name\":\"surya\",\"profession\":\"Python Trainer\"}\n",
    "profession = profile.setdefault(\"profession\")\n",
    "print(profile)\n",
    "print(profession)"
   ]
  },
  {
   "cell_type": "code",
   "execution_count": null,
   "id": "89c7a897",
   "metadata": {},
   "outputs": [],
   "source": []
  },
  {
   "cell_type": "code",
   "execution_count": null,
   "id": "5c3b70f1",
   "metadata": {},
   "outputs": [],
   "source": []
  }
 ],
 "metadata": {
  "kernelspec": {
   "display_name": "Python 3",
   "language": "python",
   "name": "python3"
  },
  "language_info": {
   "codemirror_mode": {
    "name": "ipython",
    "version": 3
   },
   "file_extension": ".py",
   "mimetype": "text/x-python",
   "name": "python",
   "nbconvert_exporter": "python",
   "pygments_lexer": "ipython3",
   "version": "3.8.8"
  }
 },
 "nbformat": 4,
 "nbformat_minor": 5
}
