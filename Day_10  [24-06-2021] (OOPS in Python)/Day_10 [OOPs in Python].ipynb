{
 "cells": [
  {
   "cell_type": "code",
   "execution_count": null,
   "id": "64764978",
   "metadata": {},
   "outputs": [],
   "source": [
    "#Agenda of the day:\n",
    "                    \n",
    "         1. OOPS in Python.\n",
    "         (Object Oriented Programming)\n",
    "            \n",
    "Python Supports both Procedure Oriented and Object Oriented Programming\n",
    "    \n",
    "- Procedure Oriented----> Every Operation Done By Creating Functions\n",
    "- Object Oriented ---->   Every Operation Done By Creating Object & \n",
    "                                                    Also Classes.\n",
    "#Introduction:\n",
    " --> In 1960s OOps(Simula) was initiated by alan Kay.\n",
    "---> with help of C++ which was available in software market.\n",
    "---> Furtherly It was adopted by many programming Languages.\n",
    "        Those are \n",
    "               --- C++\n",
    "               --- Java\n",
    "               --- Java Script\n",
    "               --- Python\n",
    "\n",
    "#Where we can use oops mostly?\n",
    "   1. Real-Time Systems\n",
    "   2. Artificial Intelligence\n",
    "   3. Expert Systems\n",
    "   4. Cilent-Server Projects\n",
    "   5. Object -Oriented Databases...etc\n",
    "    \n",
    "\n",
    "        "
   ]
  },
  {
   "cell_type": "code",
   "execution_count": null,
   "id": "a25c8eb1",
   "metadata": {},
   "outputs": [],
   "source": [
    "#What is Object Oriented Program?\n",
    "---Its a Different way of Structuring a software program by bundling the\n",
    "  properties/attributes and behaviours/actions into individual objects.\n",
    "      or\n",
    "    Its deals with classes and Objects.\n",
    "#Keypoint:\n",
    "    It used to Structure a program into simple,resuable,pieces of code."
   ]
  },
  {
   "cell_type": "code",
   "execution_count": null,
   "id": "685ec347",
   "metadata": {},
   "outputs": [],
   "source": [
    "#Contents of OOPs:\n",
    "1. Class\n",
    "2. Objects\n",
    "3. Method and Construtor Method (class variables and Instance variables)\n",
    "4. Inherirance\n",
    "         - Single Level\n",
    "         - Multi Level\n",
    "         - Hierarchical\n",
    "         - Multiple \n",
    "5. Polymorphsim -(Method Overiding)\n",
    "6. Data Abstraction\n",
    "7. Data Encapusulation & Data Hiding."
   ]
  },
  {
   "cell_type": "code",
   "execution_count": null,
   "id": "95bd8ab3",
   "metadata": {},
   "outputs": [],
   "source": [
    "#Class: What is a class?\n",
    "\n",
    "   - A class is a Collection of Objects.\n",
    "       or\n",
    "  - A class is blueprint of the object and object must follows that\n",
    "    blueprint logic or rules.\n",
    "-   A class is a Logical Entity...\n"
   ]
  },
  {
   "cell_type": "code",
   "execution_count": null,
   "id": "2b5998bb",
   "metadata": {},
   "outputs": [],
   "source": [
    "#How to create class?\n",
    "#syntax:\n",
    "class class_name:\n",
    "    #class variables             -Data Members\n",
    "    #class methods\n",
    "    #construtor method\n",
    "\n",
    "\n"
   ]
  },
  {
   "cell_type": "code",
   "execution_count": null,
   "id": "4109ca42",
   "metadata": {},
   "outputs": [],
   "source": [
    "#What is Object? (Its a Physical Entity)\n",
    "An Object (Instance) of a class that follws the class logic."
   ]
  },
  {
   "cell_type": "code",
   "execution_count": null,
   "id": "cabfd4e2",
   "metadata": {},
   "outputs": [],
   "source": [
    "#How to Create Object?\n",
    "class CAR:\n",
    "    #Variables       ---> Class Variables\n",
    "    #Methods         ----> Class Methods\n",
    "\n",
    "objectname= classname()    ---> Object Creation for class\n",
    "objectname.variablename    ---> Accessing class variable by object calling\n",
    "objectname.methodname()     ---> Accessing class method by object  calling.\n",
    "    "
   ]
  },
  {
   "cell_type": "code",
   "execution_count": 18,
   "id": "9cde27a7",
   "metadata": {},
   "outputs": [
    {
     "name": "stdout",
     "output_type": "stream",
     "text": [
      "enter a value100\n",
      "enter b value500\n",
      "enter c value400\n",
      "Construtor is invoked\n",
      "1000\n"
     ]
    }
   ],
   "source": [
    "#Example: (class,Object,,construtor method, class methods,class variables\n",
    "# instance variables,object creation,accessing the class datamembers)\n",
    "class Myclass:\n",
    "    sums=0                 #class variables\n",
    "    def __init__(self,a,b,c):   #contructor method\n",
    "        self.sums = a+b+c   #self keyword is used to access of members of class\n",
    "        print(\"Construtor is invoked\")    #a,b - instance variables\n",
    "    def printSum(self,a,b,c):      #class method\n",
    "        \n",
    "        return self.sums\n",
    "        #print(\"sum of a and b is :\",self.sums)\n",
    "    \n",
    "a = int(input(\"enter a value\"))\n",
    "b = int(input(\"enter b value\"))\n",
    "c = int(input(\"enter c value\"))\n",
    "obj = Myclass(a,b,c)    #object creation--then constuctor method will invoke\n",
    "                         #accessing values of class variables\n",
    "\n",
    "print(obj.printSum(a,b,c))        #accessing the class method definition"
   ]
  },
  {
   "cell_type": "code",
   "execution_count": null,
   "id": "7cdeb647",
   "metadata": {},
   "outputs": [],
   "source": [
    "#Inheritance:\n",
    "     what is the Inheritance?\n",
    "        Parent class------------> Child class\n",
    "            from        Properties  to\n",
    "                      (accuring)\n",
    "A class (Derived or child class) which inherits or accuring the \n",
    "properties of another class(base or parent class) is called Inheritance.\n",
    "\n",
    "#Note : By Using Inheritance we make code resuablity.\n",
    "        "
   ]
  },
  {
   "cell_type": "code",
   "execution_count": 38,
   "id": "8c9abf2d",
   "metadata": {},
   "outputs": [
    {
     "name": "stdout",
     "output_type": "stream",
     "text": [
      "100\n",
      "300\n",
      "sum of the a nd b is: 400\n",
      "500\n",
      "600\n",
      "substraction of c and d is: 100\n"
     ]
    }
   ],
   "source": [
    "#Single_Level Inheritance( 1 Base class,1 Child Class)\n",
    "class arthematic:           #base class \n",
    "    a = 100\n",
    "    b =  300\n",
    "    def add(self):\n",
    "        total = self.a+self.b\n",
    "        print(\"sum of the a nd b is:\",total)\n",
    "class subtraction(arthematic):   #inheritance applied       #child class  \n",
    "    c = 500\n",
    "    d = 600\n",
    "    def sub(self):\n",
    "        subs = self.d-self.c\n",
    "        print(\"substraction of c and d is:\",subs)\n",
    "pb = arthematic()\n",
    "cb = subtraction()\n",
    "print(cb.a)\n",
    "print(cb.b)          #accessing base class variables and methods\n",
    "cb.add()\n",
    "print(cb.c) \n",
    "print(cb.d)       #accessing self(child) class variables and methods\n",
    "cb.sub()"
   ]
  },
  {
   "cell_type": "code",
   "execution_count": null,
   "id": "a7344ab9",
   "metadata": {},
   "outputs": [],
   "source": [
    "#Multi-Level Inheritance:\n",
    "Parent1class-------> Parent2/child1class---->Child2class"
   ]
  },
  {
   "cell_type": "code",
   "execution_count": null,
   "id": "95b44596",
   "metadata": {},
   "outputs": [],
   "source": [
    "#Example: one or more parents\n",
    "class addition:\n",
    "    c = 90\n",
    "    d =50\n",
    "    def __init__(self,a,b):\n",
    "        self.a = a\n",
    "        self.b = b\n",
    "    def add(self,a,b):\n",
    "        total = self.a+self.b\n",
    "        return total\n",
    "class substraction(addition):   #level-1 inheritance\n",
    "    def sub(self,a,b):\n",
    "        subs = self.b-self.a\n",
    "        return subs\n",
    "    \n",
    "class multiplication(substraction):   #level-inheritance\n",
    "    def mul(self,a,b):\n",
    "        multi = self.a * self.b\n",
    "        return multi\n",
    "a = int(input(\"enter a value\"))\n",
    "b = int(input(\"enter b value\"))    "
   ]
  }
 ],
 "metadata": {
  "kernelspec": {
   "display_name": "Python 3",
   "language": "python",
   "name": "python3"
  },
  "language_info": {
   "codemirror_mode": {
    "name": "ipython",
    "version": 3
   },
   "file_extension": ".py",
   "mimetype": "text/x-python",
   "name": "python",
   "nbconvert_exporter": "python",
   "pygments_lexer": "ipython3",
   "version": "3.8.8"
  }
 },
 "nbformat": 4,
 "nbformat_minor": 5
}
