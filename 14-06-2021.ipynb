{
 "cells": [
  {
   "cell_type": "markdown",
   "metadata": {},
   "source": [
    "# Day Objectives\n",
    "- Installation of Anaconda software\n",
    "- Markdown format\n",
    "- jupyter notebook\n",
    "- Python basics"
   ]
  },
  {
   "cell_type": "markdown",
   "metadata": {},
   "source": [
    "# Markdown basics\n"
   ]
  },
  {
   "cell_type": "markdown",
   "metadata": {},
   "source": [
    "# python\n",
    "## python\n",
    "### python\n",
    "#### python\n",
    "##### python\n",
    "###### python\n",
    "####### python"
   ]
  },
  {
   "cell_type": "markdown",
   "metadata": {},
   "source": [
    "**bold**\n",
    "*italic*\n",
    "***bold italic***"
   ]
  },
  {
   "cell_type": "markdown",
   "metadata": {},
   "source": [
    "1. order list1\n",
    "2. order list2\n",
    "3. order list3"
   ]
  },
  {
   "cell_type": "markdown",
   "metadata": {},
   "source": [
    "# unordered list\n"
   ]
  },
  {
   "cell_type": "markdown",
   "metadata": {},
   "source": [
    "- List1\n",
    "    - List 2\n",
    "        - List 3\n",
    "            - List4"
   ]
  },
  {
   "cell_type": "markdown",
   "metadata": {},
   "source": [
    "# Inserting a sample code in markdown\n",
    "\n",
    "~~~\n",
    "#include<stdio.h>\n",
    "{\n",
    "int main()\n",
    "{\n",
    "printf(\"vanitha\");\n",
    "}\n",
    "return 0;\n",
    "}\n",
    "\n",
    "~~~"
   ]
  },
  {
   "cell_type": "markdown",
   "metadata": {},
   "source": [
    "# creating tables\n",
    "|name|age|marks|\n",
    "|----|---|-----|\n",
    "|vanitha|23|97|\n",
    "|nandini|23|98|"
   ]
  },
  {
   "cell_type": "markdown",
   "metadata": {},
   "source": [
    "<img src=\"wallpaper.jpeg\" style=\"float:left\">"
   ]
  },
  {
   "cell_type": "markdown",
   "metadata": {},
   "source": [
    "# python Introduction\n",
    "- python is a programming language,interpreted language(line-by-line)\n",
    "- It is the one of the fastest growing language\n",
    "- It has number of libraries\n",
    "- It is simple and powerful,high level language\n",
    "- Object oriented programming language\n"
   ]
  },
  {
   "cell_type": "markdown",
   "metadata": {},
   "source": [
    "# Founder- Guido Van Rossum"
   ]
  },
  {
   "cell_type": "markdown",
   "metadata": {},
   "source": [
    "# Python Features\n",
    "\n",
    "- Easy to learn and use\n",
    "- Expressive Language\n",
    "    - It is more understandable and readble\n",
    "- Interpreted Language\n",
    "- Cross-platform\n",
    "- Free and open source\n",
    "- GUI Programming Support\n",
    "    - Graphical User Interface\n",
    "- Object Oriented Programming Language\n"
   ]
  },
  {
   "cell_type": "code",
   "execution_count": null,
   "metadata": {},
   "outputs": [],
   "source": [
    "esc+m --> from code to markdown\n",
    "esc+y --> from markdown to code\n",
    "shift+l --> giving/removing numbers to cell\n",
    "shift+enter--> to check output\n",
    "a- It creates a new cell in above\n",
    "b- It creates a new cell in below\n",
    "dd- for deleting cell"
   ]
  },
  {
   "cell_type": "code",
   "execution_count": null,
   "metadata": {},
   "outputs": [],
   "source": []
  },
  {
   "cell_type": "code",
   "execution_count": null,
   "metadata": {},
   "outputs": [],
   "source": []
  },
  {
   "cell_type": "code",
   "execution_count": null,
   "metadata": {},
   "outputs": [],
   "source": []
  }
 ],
 "metadata": {
  "kernelspec": {
   "display_name": "Python 3",
   "language": "python",
   "name": "python3"
  },
  "language_info": {
   "codemirror_mode": {
    "name": "ipython",
    "version": 3
   },
   "file_extension": ".py",
   "mimetype": "text/x-python",
   "name": "python",
   "nbconvert_exporter": "python",
   "pygments_lexer": "ipython3",
   "version": "3.7.3"
  }
 },
 "nbformat": 4,
 "nbformat_minor": 2
}
