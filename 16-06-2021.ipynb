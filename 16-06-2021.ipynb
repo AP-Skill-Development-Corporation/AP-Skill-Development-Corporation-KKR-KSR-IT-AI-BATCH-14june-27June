{
 "cells": [
  {
   "cell_type": "markdown",
   "metadata": {},
   "source": [
    "# Conditional Statements\n",
    "- To execute specific block (or)\n",
    "- code given condition is true or false\n"
   ]
  },
  {
   "cell_type": "code",
   "execution_count": null,
   "metadata": {},
   "outputs": [],
   "source": [
    "if  statement:-  To check the single condition...\n",
    "if-else  :- \n",
    "elif    :- To check two or more conditions\n",
    "nested if:- if block inside blocks"
   ]
  },
  {
   "cell_type": "markdown",
   "metadata": {},
   "source": [
    "# if statement syntax:-\n",
    "if condition:\n",
    "    statements"
   ]
  },
  {
   "cell_type": "code",
   "execution_count": 4,
   "metadata": {},
   "outputs": [
    {
     "name": "stdout",
     "output_type": "stream",
     "text": [
      "Enter any number: 67\n",
      "Positive Number\n"
     ]
    }
   ],
   "source": [
    "# To check whether a number is positive or not\n",
    "n=int(input('Enter any number: '))   # 7\n",
    "if(n>0): #7>0(T)\n",
    "    print(\"Positive Number\")"
   ]
  },
  {
   "cell_type": "code",
   "execution_count": 6,
   "metadata": {},
   "outputs": [
    {
     "name": "stdout",
     "output_type": "stream",
     "text": [
      "Enter any number: 4\n",
      "Even Number\n"
     ]
    }
   ],
   "source": [
    "# even number\n",
    "n=int(input('Enter any number: ')) #4\n",
    "if(n%2==0):    #4%2==0(T)\n",
    "    print(\"Even Number\")  "
   ]
  },
  {
   "cell_type": "markdown",
   "metadata": {},
   "source": [
    "if-else syntax:-\n",
    "\n",
    "    if condition:\n",
    "        statements\n",
    "    else:\n",
    "        statements"
   ]
  },
  {
   "cell_type": "code",
   "execution_count": 9,
   "metadata": {},
   "outputs": [
    {
     "name": "stdout",
     "output_type": "stream",
     "text": [
      "Enter any number: -4\n",
      "Negative Number\n"
     ]
    }
   ],
   "source": [
    "# To check whether a number is positive or not\n",
    "n=int(input('Enter any number: '))   # 7  -4\n",
    "if(n>0): #7>0(T)  -4>0(F)\n",
    "    print(\"Positive Number\")\n",
    "else:\n",
    "    print(\"Negative Number\")"
   ]
  },
  {
   "cell_type": "code",
   "execution_count": 13,
   "metadata": {},
   "outputs": [
    {
     "name": "stdout",
     "output_type": "stream",
     "text": [
      "Enter any number: 6\n",
      "Even Number\n"
     ]
    }
   ],
   "source": [
    "# even number\n",
    "n=int(input('Enter any number: ')) #4\n",
    "if(n%2==0):    #4%2==0(T)\n",
    "    print(\"Even Number\")\n",
    "else:\n",
    "    print(\"Odd Number\")"
   ]
  },
  {
   "cell_type": "code",
   "execution_count": 15,
   "metadata": {},
   "outputs": [
    {
     "name": "stdout",
     "output_type": "stream",
     "text": [
      "Enter your age: 12\n",
      "Not eligible for vote\n"
     ]
    }
   ],
   "source": [
    "# vote\n",
    "age=int(input('Enter your age: '))\n",
    "if(age>=18): #12>=18(F)\n",
    "    print(\"Eligible for vote\")\n",
    "else:\n",
    "    print(\"Not eligible for vote\")"
   ]
  },
  {
   "cell_type": "code",
   "execution_count": 16,
   "metadata": {},
   "outputs": [
    {
     "name": "stdout",
     "output_type": "stream",
     "text": [
      "5\n",
      "8\n",
      "8 is big number\n"
     ]
    }
   ],
   "source": [
    "# big number\n",
    "a=int(input())\n",
    "b=int(input())\n",
    "if(a>b):  #5>8(F)\n",
    "    print(a,\"is big number\")\n",
    "else:  \n",
    "    print(b,\"is big number\")"
   ]
  },
  {
   "cell_type": "code",
   "execution_count": 19,
   "metadata": {},
   "outputs": [
    {
     "name": "stdout",
     "output_type": "stream",
     "text": [
      "9\n",
      "9 is divisible by 3\n"
     ]
    }
   ],
   "source": [
    "# divisible by 3\n",
    "n=int(input())\n",
    "if(n%3==0):\n",
    "    print(n,\"is divisible by 3\")\n",
    "else:\n",
    "    print(n,\"is not divisible by 3\")\n"
   ]
  },
  {
   "cell_type": "code",
   "execution_count": 22,
   "metadata": {},
   "outputs": [
    {
     "name": "stdout",
     "output_type": "stream",
     "text": [
      "30\n",
      "30 is divisible by 3 and 5\n"
     ]
    }
   ],
   "source": [
    "# divisible by 3 and 5\n",
    "n=int(input())\n",
    "if(n%3==0 and n%5==0 ):\n",
    "    print(n,\"is divisible by 3 and 5\")\n",
    "else:\n",
    "    print(n,\"is not divisible by 3 and 5\")"
   ]
  },
  {
   "cell_type": "code",
   "execution_count": null,
   "metadata": {},
   "outputs": [],
   "source": [
    "elif syntax:\n",
    "\n",
    "if(condition1):\n",
    "    statements\n",
    "elif(condition2):\n",
    "    statements\n",
    "elif(condition3):\n",
    "    statements;\n",
    "    .\n",
    "    .\n",
    "    .\n",
    "else:\n",
    "    statements"
   ]
  },
  {
   "cell_type": "code",
   "execution_count": 24,
   "metadata": {},
   "outputs": [
    {
     "name": "stdout",
     "output_type": "stream",
     "text": [
      "11\n",
      "23\n",
      "56\n",
      "56 is big\n"
     ]
    }
   ],
   "source": [
    "# big number in 3 numbers\n",
    "a=int(input())  # 11 \n",
    "b=int(input())  # 23\n",
    "c=int(input())  # 56\n",
    "if(a>b and a>c):  # 11>23(F) and 11>56(F)-- F\n",
    "    print(a,\"is big\")\n",
    "elif(b>c):   # 23>56(F)\n",
    "    print(b,\"is big\")\n",
    "else:\n",
    "    print(c,\"is big\")"
   ]
  },
  {
   "cell_type": "code",
   "execution_count": null,
   "metadata": {},
   "outputs": [],
   "source": [
    "i/p: \n",
    "      2\n",
    "      even\n",
    "      square-4\n",
    "    \n",
    "      7\n",
    "      odd\n",
    "      cube-343"
   ]
  },
  {
   "cell_type": "code",
   "execution_count": 26,
   "metadata": {},
   "outputs": [
    {
     "name": "stdout",
     "output_type": "stream",
     "text": [
      "enter a number6\n",
      "even\n",
      "36\n"
     ]
    }
   ],
   "source": [
    "n=int(input('enter a number'))\n",
    "if(n%2==0):\n",
    "    print(\"even\")\n",
    "    print(n**2)\n",
    "else:\n",
    "    print(\"odd\")\n",
    "    print(n*n*n)"
   ]
  },
  {
   "cell_type": "code",
   "execution_count": null,
   "metadata": {},
   "outputs": [],
   "source": [
    "80-100---> A Grade\n",
    "60-79---> B Grade\n",
    "40-59---> C Grade\n",
    "below 39--> FAIL\n",
    "\n",
    "Invalid input"
   ]
  },
  {
   "cell_type": "code",
   "execution_count": 29,
   "metadata": {},
   "outputs": [
    {
     "name": "stdout",
     "output_type": "stream",
     "text": [
      "Enter your marks: 89\n",
      "A Grade\n"
     ]
    }
   ],
   "source": [
    "marks=int(input('Enter your marks: '))\n",
    "if(marks>=80 and marks<=100):\n",
    "    print(\"A Grade\")\n",
    "elif(marks>=60 and marks<=79):\n",
    "    print(\"B Grade\")\n",
    "elif(marks>=40 and marks<=59):\n",
    "    print(\"C Grade\")\n",
    "elif(marks<=39):\n",
    "    print(\"Fail\")\n",
    "else:\n",
    "    print(\"Invalid Input\")"
   ]
  },
  {
   "cell_type": "code",
   "execution_count": null,
   "metadata": {},
   "outputs": [],
   "source": [
    "i/p: 5\n",
    "    FRIDAY\n",
    "    \n",
    "0-SUNDAY\n",
    "1-MONDAY\n",
    "2-TUESDAY\n",
    "3-WEDNESDAY\n",
    "4-THURSDAY\n",
    "5-FRIDAY\n",
    "6-SATURDAY"
   ]
  },
  {
   "cell_type": "code",
   "execution_count": 34,
   "metadata": {},
   "outputs": [
    {
     "name": "stdout",
     "output_type": "stream",
     "text": [
      "7\n",
      "Invalid Input\n"
     ]
    }
   ],
   "source": [
    "n=int(input())\n",
    "if(n==0):\n",
    "    print(\"SUNDAY\")\n",
    "elif(n==1):\n",
    "    print(\"MONDAY\")\n",
    "elif(n==2):\n",
    "    print(\"TUESDAY\")\n",
    "elif(n==3):\n",
    "    print(\"WEDNESDAY\")\n",
    "elif(n==4):\n",
    "    print(\"THURSDAY\")\n",
    "elif(n==5):\n",
    "    print(\"FRIDAY\")\n",
    "elif(n==6):\n",
    "    print(\"Saturday\")\n",
    "else:\n",
    "    print(\"Invalid Input\")"
   ]
  },
  {
   "cell_type": "code",
   "execution_count": null,
   "metadata": {},
   "outputs": [],
   "source": [
    "# Arithmetic Operations\n",
    "i.p: 5\n",
    "     2\n",
    "    1.add 2.sub 3.mul 4.div....\n",
    "    enter your choice: 3\n",
    "    5 and 2 addition is "
   ]
  },
  {
   "cell_type": "code",
   "execution_count": 37,
   "metadata": {},
   "outputs": [
    {
     "name": "stdout",
     "output_type": "stream",
     "text": [
      "Enter 1st number: 6\n",
      "Enter 2nd number: 9\n",
      "1.add 2.sub 3.mul 4.div 5.modulus 6.floor 7.power\n",
      "Enter your choice3\n",
      "6 and 9 multiplication is: 54\n"
     ]
    }
   ],
   "source": [
    "a=int(input('Enter 1st number: ')) #5\n",
    "b=int(input('Enter 2nd number: ')) #2\n",
    "print(\"1.add 2.sub 3.mul 4.div 5.modulus 6.floor 7.power\")\n",
    "choice=int(input('Enter your choice'))\n",
    "if(choice==1):\n",
    "    print(a,\"and\",b,\"addition is:\",a+b)\n",
    "elif(choice==2):\n",
    "    print(a,\"and\",b,\"substraction is:\",a-b)\n",
    "elif(choice==3):\n",
    "    print(a,\"and\",b,\"multiplication is:\",a*b)\n",
    "elif(choice==4):\n",
    "    print(a,\"and\",b,\"division is:\",a/b)\n",
    "elif(choice==5):\n",
    "    print(a,\"and\",b,\"modulus is:\",a%b)\n",
    "elif(choice==6):\n",
    "    print(a,\"and\",b,\"floor is:\",a//b)\n",
    "elif(choice==7):\n",
    "    print(a,\"and\",b,\"power is:\",a**b)\n",
    "else:\n",
    "    print(\"Enter correct choice\")\n",
    "    "
   ]
  },
  {
   "cell_type": "code",
   "execution_count": null,
   "metadata": {},
   "outputs": [],
   "source": [
    "Task\n",
    "// membership operators\n",
    "\n",
    "i/p: Enter your month: may\n",
    "o/p:  31 DAYS"
   ]
  },
  {
   "cell_type": "code",
   "execution_count": null,
   "metadata": {},
   "outputs": [],
   "source": [
    "nested if syntax:-\n",
    "    \n",
    "    if(condition):  #()-F\n",
    "        if(condition):  #T \n",
    "            statements\n",
    "        else:\n",
    "            statements\n",
    "    else:\n",
    "        statements"
   ]
  },
  {
   "cell_type": "code",
   "execution_count": null,
   "metadata": {},
   "outputs": [],
   "source": [
    "i/p: 6\n",
    "    even\n",
    "    >10-->Square-->36\n",
    "    <10--->cube-->256\n",
    "    \n",
    "    \n",
    "    5\n",
    "    Odd "
   ]
  },
  {
   "cell_type": "code",
   "execution_count": 2,
   "metadata": {},
   "outputs": [
    {
     "name": "stdout",
     "output_type": "stream",
     "text": [
      "12\n",
      "Even Number\n",
      "144\n"
     ]
    }
   ],
   "source": [
    "n=int(input())\n",
    "if(n%2==0):\n",
    "    print(\"Even Number\")\n",
    "    if(n>10):\n",
    "        print(n**2)\n",
    "    else:\n",
    "        print(n**3)\n",
    "else:\n",
    "    print(\"Odd Number\")"
   ]
  },
  {
   "cell_type": "code",
   "execution_count": null,
   "metadata": {},
   "outputs": [],
   "source": [
    "i/p: userid--> 100 to 200 -->164\n",
    "    \n",
    "password fix-- (apssdc@123)   workshop\n",
    "i/p: enter your password---> ......\n",
    "\n",
    "    o/p: Welcome\n",
    "    \n",
    "    o/p: Invalid\n",
    "     \n",
    "case2:  50\n",
    "      o/p: Invalid Userid\n"
   ]
  },
  {
   "cell_type": "code",
   "execution_count": 8,
   "metadata": {},
   "outputs": [
    {
     "name": "stdout",
     "output_type": "stream",
     "text": [
      "Enter userid: 15\n",
      "Invalid userid\n"
     ]
    }
   ],
   "source": [
    "uid=int(input('Enter userid: '))\n",
    "if(uid>=100 and uid<=200):  #12\n",
    "    pwd=input('Enter your password')\n",
    "    if(pwd==\"apssdc@123\"): \n",
    "        print(\"Welcome\")\n",
    "    else:\n",
    "        print(\"Invalid\")\n",
    "else:\n",
    "    print(\"Invalid userid\")"
   ]
  },
  {
   "cell_type": "code",
   "execution_count": null,
   "metadata": {},
   "outputs": [],
   "source": [
    "input: y\n",
    "# A -Z\n",
    "  a-z\n",
    "    \n",
    "o/p: Alphabet\n",
    "    \n",
    "o/p: Not an alphabet\n",
    "    "
   ]
  },
  {
   "cell_type": "code",
   "execution_count": 14,
   "metadata": {},
   "outputs": [
    {
     "name": "stdout",
     "output_type": "stream",
     "text": [
      "%\n",
      "Not an alphabet\n"
     ]
    }
   ],
   "source": [
    "n=input()\n",
    "if((n>='A' and n<='Z') or (n>='a' and n<='z')):\n",
    "    print(\"Alphabet\")\n",
    "else:\n",
    "    print(\"Not an alphabet\")"
   ]
  },
  {
   "cell_type": "code",
   "execution_count": 15,
   "metadata": {},
   "outputs": [
    {
     "data": {
      "text/plain": [
       "97"
      ]
     },
     "execution_count": 15,
     "metadata": {},
     "output_type": "execute_result"
    }
   ],
   "source": [
    "ord('a')"
   ]
  },
  {
   "cell_type": "code",
   "execution_count": 16,
   "metadata": {},
   "outputs": [
    {
     "data": {
      "text/plain": [
       "83"
      ]
     },
     "execution_count": 16,
     "metadata": {},
     "output_type": "execute_result"
    }
   ],
   "source": [
    "ord('S')"
   ]
  },
  {
   "cell_type": "code",
   "execution_count": null,
   "metadata": {},
   "outputs": [],
   "source": []
  }
 ],
 "metadata": {
  "kernelspec": {
   "display_name": "Python 3",
   "language": "python",
   "name": "python3"
  },
  "language_info": {
   "codemirror_mode": {
    "name": "ipython",
    "version": 3
   },
   "file_extension": ".py",
   "mimetype": "text/x-python",
   "name": "python",
   "nbconvert_exporter": "python",
   "pygments_lexer": "ipython3",
   "version": "3.7.3"
  }
 },
 "nbformat": 4,
 "nbformat_minor": 2
}
