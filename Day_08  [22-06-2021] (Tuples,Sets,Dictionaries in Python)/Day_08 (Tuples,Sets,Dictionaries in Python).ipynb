{
 "cells": [
  {
   "cell_type": "code",
   "execution_count": null,
   "id": "5cd86a7f",
   "metadata": {},
   "outputs": [],
   "source": [
    "#Agenda of the Day:\n",
    "\n",
    "                    1. Tuples in Python.\n",
    "    \n",
    "A Tuple is a Data Structure that is used to store multiple data at one Time.\n",
    "\n",
    "#Keypoints:\n",
    "        \n",
    "         1. We can store multiple data of different data types\n",
    "              like strings, integers, object,floats,Boolean values.\n",
    "         2. Compared to list , Tuple is immutable (not changable)\n",
    "        \n",
    "         3. Data in tuple is acccesed by thier index (start from zero)\n",
    "          \n",
    "         4. Its increases the performance as iterating in a tuple is \n",
    "             faster than list.\n",
    "         5. All values in tuple are separated by comma and \n",
    "            enclosed by parenthesis ().\n"
   ]
  },
  {
   "cell_type": "code",
   "execution_count": null,
   "id": "1be19e32",
   "metadata": {},
   "outputs": [],
   "source": [
    "#How to create a tuple?\n",
    "#syntax:\n",
    "tuples = (item1,item2,item3.....)"
   ]
  },
  {
   "cell_type": "code",
   "execution_count": 2,
   "id": "0711c9d9",
   "metadata": {},
   "outputs": [
    {
     "name": "stdout",
     "output_type": "stream",
     "text": [
      "<class 'tuple'>\n",
      "<class 'tuple'>\n"
     ]
    }
   ],
   "source": [
    "#how to create tuple?\n",
    "tup = ()                                #empty tuple\n",
    "print(type(tup))\n",
    "tup1 = tuple()                      #empty tuple\n",
    "print(type(tup1))"
   ]
  },
  {
   "cell_type": "code",
   "execution_count": 9,
   "id": "14174a1f",
   "metadata": {},
   "outputs": [
    {
     "name": "stdout",
     "output_type": "stream",
     "text": [
      "(1, 2, 3, 'Tuesday', 50.3, True)\n"
     ]
    },
    {
     "data": {
      "text/plain": [
       "True"
      ]
     },
     "execution_count": 9,
     "metadata": {},
     "output_type": "execute_result"
    }
   ],
   "source": [
    "#How create tuples with values?\n",
    "tup = (1,2,3,\"Tuesday\",50.3,True)\n",
    "tup1 = (\"Kits\",\"IT\",\"AI\",\"DATA Science\",\"Machine Learning\")\n",
    "print(tup)\n",
    "tup[0]\n",
    "tup[-1]"
   ]
  },
  {
   "cell_type": "code",
   "execution_count": 20,
   "id": "87192e8a",
   "metadata": {},
   "outputs": [
    {
     "name": "stdout",
     "output_type": "stream",
     "text": [
      "y\n",
      "t\n",
      "3\n",
      "6\n",
      "100\n"
     ]
    }
   ],
   "source": [
    "#Example:\n",
    "tup = (\"Python\",[1,2,3],(5,6,9),50,100)\n",
    "print(tup[0][1])                            #nesting indexing\n",
    "print(tup[0][2])\n",
    "print(tup[1][2])\n",
    "print(tup[2][1])\n",
    "print(tup[4])                                #single indexing"
   ]
  },
  {
   "cell_type": "code",
   "execution_count": 29,
   "id": "ebc1382d",
   "metadata": {},
   "outputs": [
    {
     "name": "stdout",
     "output_type": "stream",
     "text": [
      "(2, 3, 4, 5)\n",
      "(4, 5, 6)\n",
      "(5, 6, 'python')\n",
      "(1,)\n"
     ]
    }
   ],
   "source": [
    "#Slicing a Tuple:\n",
    "tup = (1,2,3,4,5,6,\"python\")\n",
    "print(tup[1:5])\n",
    "print(tup[-4:-1])\n",
    "print(tup[-3:])\n",
    "print(tup[:1])"
   ]
  },
  {
   "cell_type": "code",
   "execution_count": 33,
   "id": "43128b56",
   "metadata": {},
   "outputs": [
    {
     "name": "stdout",
     "output_type": "stream",
     "text": [
      "orginal tuple= (50, 60, 100, 'Hello', 'Coding')\n"
     ]
    },
    {
     "ename": "TypeError",
     "evalue": "'type' object does not support item assignment",
     "output_type": "error",
     "traceback": [
      "\u001b[1;31m---------------------------------------------------------------------------\u001b[0m",
      "\u001b[1;31mTypeError\u001b[0m                                 Traceback (most recent call last)",
      "\u001b[1;32m<ipython-input-33-be111195c14e>\u001b[0m in \u001b[0;36m<module>\u001b[1;34m\u001b[0m\n\u001b[0;32m      2\u001b[0m \u001b[0mtup\u001b[0m \u001b[1;33m=\u001b[0m \u001b[1;33m(\u001b[0m\u001b[1;36m50\u001b[0m\u001b[1;33m,\u001b[0m\u001b[1;36m60\u001b[0m\u001b[1;33m,\u001b[0m\u001b[1;36m100\u001b[0m\u001b[1;33m,\u001b[0m\u001b[1;34m\"Hello\"\u001b[0m\u001b[1;33m,\u001b[0m\u001b[1;34m\"Coding\"\u001b[0m\u001b[1;33m)\u001b[0m\u001b[1;33m\u001b[0m\u001b[1;33m\u001b[0m\u001b[0m\n\u001b[0;32m      3\u001b[0m \u001b[0mprint\u001b[0m\u001b[1;33m(\u001b[0m\u001b[1;34m\"orginal tuple=\"\u001b[0m\u001b[1;33m,\u001b[0m\u001b[0mtup\u001b[0m\u001b[1;33m)\u001b[0m\u001b[1;33m\u001b[0m\u001b[1;33m\u001b[0m\u001b[0m\n\u001b[1;32m----> 4\u001b[1;33m \u001b[0mtuple\u001b[0m\u001b[1;33m[\u001b[0m\u001b[1;36m0\u001b[0m\u001b[1;33m]\u001b[0m\u001b[1;33m=\u001b[0m\u001b[1;36m500\u001b[0m\u001b[1;33m\u001b[0m\u001b[1;33m\u001b[0m\u001b[0m\n\u001b[0m",
      "\u001b[1;31mTypeError\u001b[0m: 'type' object does not support item assignment"
     ]
    }
   ],
   "source": [
    "#Change the tuple values? (tuple is immutable)\n",
    "tup = (50,60,100,\"Hello\",\"Coding\")\n",
    "print(\"orginal tuple=\",tup)\n",
    "tuple[0]=500\n",
    "#Note:we can not use append(),extend(),insert() functions on tuple data\n",
    "# as well as we can not use remove or pop() functions"
   ]
  },
  {
   "cell_type": "code",
   "execution_count": 37,
   "id": "725a2aed",
   "metadata": {},
   "outputs": [
    {
     "name": "stdout",
     "output_type": "stream",
     "text": [
      "<class 'list'>\n",
      "<class 'tuple'>\n",
      "<class 'list'>\n",
      "<class 'str'>\n"
     ]
    }
   ],
   "source": [
    "#coverting list to tuple\n",
    "li= [10,20,30,40,50,60]\n",
    "print(type(li))\n",
    "\n",
    "tup = tuple(li)           #type conversion\n",
    "print(type(tup))\n",
    "\n",
    "li1 = list(tup)\n",
    "print(type(li1))\n",
    "\n",
    "str1 = str(tup)\n",
    "print(type(str1))"
   ]
  },
  {
   "cell_type": "code",
   "execution_count": 44,
   "id": "6ac57071",
   "metadata": {},
   "outputs": [
    {
     "name": "stdout",
     "output_type": "stream",
     "text": [
      "(100, 90, 75, 1, 9, 23, 45, 67, 91, 15, 28)\n",
      "<class 'tuple'>\n",
      "<class 'list'>\n",
      "[1, 9, 15, 23, 28, 45, 67, 75, 90, 91, 100]\n"
     ]
    }
   ],
   "source": [
    "#Sort tuple in python:\n",
    "#sorted(arg1)\n",
    "tup = (100,90,75,1,9,23,45,67,91,15,28)\n",
    "print(tup)\n",
    "print(type(tup))\n",
    "tup1= sorted(tup)\n",
    "print(type(tup1))\n",
    "print(tup1)"
   ]
  },
  {
   "cell_type": "code",
   "execution_count": 43,
   "id": "e952cce0",
   "metadata": {},
   "outputs": [
    {
     "name": "stdout",
     "output_type": "stream",
     "text": [
      "before sorted tuple: (100, 90, 75, 1, 9, 23, 45, 67, 91, 15, 28)\n",
      "after sorted Tuple: [1, 9, 15, 23, 28, 45, 67, 75, 90, 91, 100]\n"
     ]
    }
   ],
   "source": [
    "def sortTuple(tup):\n",
    "    sort = sorted(tup)\n",
    "    return sort\n",
    "tup = (100,90,75,1,9,23,45,67,91,15,28)\n",
    "print(\"before sorted tuple:\",tup)\n",
    "sortedtuple = sortTuple(tup)\n",
    "print(\"after sorted Tuple:\",sortedtuple)"
   ]
  },
  {
   "cell_type": "code",
   "execution_count": 45,
   "id": "958c3e44",
   "metadata": {},
   "outputs": [
    {
     "name": "stdout",
     "output_type": "stream",
     "text": [
      "['__add__', '__class__', '__contains__', '__delattr__', '__dir__', '__doc__', '__eq__', '__format__', '__ge__', '__getattribute__', '__getitem__', '__getnewargs__', '__gt__', '__hash__', '__init__', '__init_subclass__', '__iter__', '__le__', '__len__', '__lt__', '__mul__', '__ne__', '__new__', '__reduce__', '__reduce_ex__', '__repr__', '__rmul__', '__setattr__', '__sizeof__', '__str__', '__subclasshook__', 'count', 'index'] "
     ]
    }
   ],
   "source": [
    "#explore the functions in tuple:\n",
    "print(dir(tuple),end=\" \")"
   ]
  },
  {
   "cell_type": "code",
   "execution_count": 55,
   "id": "8f5ddaba",
   "metadata": {},
   "outputs": [
    {
     "name": "stdout",
     "output_type": "stream",
     "text": [
      "2\n",
      "3\n",
      "3\n",
      "1\n",
      "3\n"
     ]
    }
   ],
   "source": [
    "#count and index in tuple():\n",
    "tup = (1,2,3,4,5,1,2,3,6,9,10,5,10,3,10)\n",
    "print(tup.count(1))             #for getting frequecy of the values\n",
    "print(tup.count(10))\n",
    "print(tup.count(3))\n",
    "print(tup.index(2))         #for getting index of the values\n",
    "print(tup.index(4))"
   ]
  },
  {
   "cell_type": "code",
   "execution_count": 67,
   "id": "511d6dcd",
   "metadata": {},
   "outputs": [
    {
     "name": "stdout",
     "output_type": "stream",
     "text": [
      "(3, 6, 'KITS', 9, 12, 'APSSDC')\n",
      "-1\n",
      "1000\n",
      "9\n",
      "[-1, 0, 3, 10, 30, 60, 90, 100, 1000]\n",
      "1292\n"
     ]
    }
   ],
   "source": [
    "#Basic Operations (concatenation,min,max,sum,sorted)\n",
    "tup1 = (3,6,\"KITS\")\n",
    "tup2 = (9,12,\"APSSDC\")\n",
    "print(tup1+tup2)\n",
    "tup = (10,100,1000,30,3,60,90,-1,0)\n",
    "print(min(tup))\n",
    "print(max(tup))\n",
    "print(len(tup))\n",
    "print(sorted(tup))\n",
    "print(sum(tup))"
   ]
  },
  {
   "cell_type": "code",
   "execution_count": 71,
   "id": "a8626daf",
   "metadata": {},
   "outputs": [],
   "source": [
    "#deleting a tuple:\n",
    "tup = (1,2,3,4,5,6,7,8,9)\n",
    "li = [1,2,3,4,5,6,7,8]\n",
    "del li\n",
    "del tup"
   ]
  },
  {
   "cell_type": "code",
   "execution_count": 72,
   "id": "e6bc25ba",
   "metadata": {},
   "outputs": [
    {
     "ename": "NameError",
     "evalue": "name 'tup' is not defined",
     "output_type": "error",
     "traceback": [
      "\u001b[1;31m---------------------------------------------------------------------------\u001b[0m",
      "\u001b[1;31mNameError\u001b[0m                                 Traceback (most recent call last)",
      "\u001b[1;32m<ipython-input-72-805acd190a95>\u001b[0m in \u001b[0;36m<module>\u001b[1;34m\u001b[0m\n\u001b[1;32m----> 1\u001b[1;33m \u001b[0mprint\u001b[0m\u001b[1;33m(\u001b[0m\u001b[0mtup\u001b[0m\u001b[1;33m)\u001b[0m\u001b[1;33m\u001b[0m\u001b[1;33m\u001b[0m\u001b[0m\n\u001b[0m\u001b[0;32m      2\u001b[0m \u001b[0mprint\u001b[0m\u001b[1;33m(\u001b[0m\u001b[0mli\u001b[0m\u001b[1;33m)\u001b[0m\u001b[1;33m\u001b[0m\u001b[1;33m\u001b[0m\u001b[0m\n",
      "\u001b[1;31mNameError\u001b[0m: name 'tup' is not defined"
     ]
    }
   ],
   "source": [
    "print(tup)"
   ]
  },
  {
   "cell_type": "code",
   "execution_count": 73,
   "id": "d88bf0cf",
   "metadata": {},
   "outputs": [
    {
     "ename": "NameError",
     "evalue": "name 'li' is not defined",
     "output_type": "error",
     "traceback": [
      "\u001b[1;31m---------------------------------------------------------------------------\u001b[0m",
      "\u001b[1;31mNameError\u001b[0m                                 Traceback (most recent call last)",
      "\u001b[1;32m<ipython-input-73-a6b754927a10>\u001b[0m in \u001b[0;36m<module>\u001b[1;34m\u001b[0m\n\u001b[1;32m----> 1\u001b[1;33m \u001b[0mprint\u001b[0m\u001b[1;33m(\u001b[0m\u001b[0mli\u001b[0m\u001b[1;33m)\u001b[0m\u001b[1;33m\u001b[0m\u001b[1;33m\u001b[0m\u001b[0m\n\u001b[0m",
      "\u001b[1;31mNameError\u001b[0m: name 'li' is not defined"
     ]
    }
   ],
   "source": [
    "print(li)"
   ]
  },
  {
   "cell_type": "code",
   "execution_count": null,
   "id": "f5618cd3",
   "metadata": {},
   "outputs": [],
   "source": [
    "#Sets in Python:\n",
    "   A set is an Unordered Collection of items.(Its doesnot follows the index)\n",
    "    #Key Points:\n",
    "       1. Every set element is unique.\n",
    "       2. Its Doest allow the duplication.\n",
    "       3. sets are itself is mutable, we can add or remove items from it.\n",
    "       4. We can also perform mathematical operations\n",
    "              union, intersection...etc\n",
    "       5. sets are represented by {} or curly braces.\n",
    "        "
   ]
  },
  {
   "cell_type": "code",
   "execution_count": 75,
   "id": "65a7a429",
   "metadata": {},
   "outputs": [
    {
     "name": "stdout",
     "output_type": "stream",
     "text": [
      "<class 'dict'>\n",
      "<class 'set'>\n"
     ]
    }
   ],
   "source": [
    "#How to create sets?\n",
    "s1 = {}\n",
    "print(type(s1)) \n",
    "s1 = set()\n",
    "print(type(s1))                  #creating empty set         "
   ]
  },
  {
   "cell_type": "code",
   "execution_count": 83,
   "id": "5593e90d",
   "metadata": {},
   "outputs": [
    {
     "name": "stdout",
     "output_type": "stream",
     "text": [
      "{'dicts', 10, 'tuples', 50.5, 20, 'sets', 30}\n"
     ]
    },
    {
     "ename": "TypeError",
     "evalue": "'set' object is not subscriptable",
     "output_type": "error",
     "traceback": [
      "\u001b[1;31m---------------------------------------------------------------------------\u001b[0m",
      "\u001b[1;31mTypeError\u001b[0m                                 Traceback (most recent call last)",
      "\u001b[1;32m<ipython-input-83-5d361c302c4b>\u001b[0m in \u001b[0;36m<module>\u001b[1;34m\u001b[0m\n\u001b[0;32m      4\u001b[0m \u001b[0ms2\u001b[0m \u001b[1;33m=\u001b[0m \u001b[1;33m{\u001b[0m\u001b[1;36m10\u001b[0m\u001b[1;33m,\u001b[0m\u001b[1;36m20\u001b[0m\u001b[1;33m,\u001b[0m\u001b[1;36m30\u001b[0m\u001b[1;33m,\u001b[0m\u001b[1;34m\"sets\"\u001b[0m\u001b[1;33m,\u001b[0m\u001b[1;34m\"tuples\"\u001b[0m\u001b[1;33m,\u001b[0m\u001b[1;34m\"dicts\"\u001b[0m\u001b[1;33m,\u001b[0m\u001b[1;36m50.5\u001b[0m\u001b[1;33m}\u001b[0m\u001b[1;33m\u001b[0m\u001b[1;33m\u001b[0m\u001b[0m\n\u001b[0;32m      5\u001b[0m \u001b[0mprint\u001b[0m\u001b[1;33m(\u001b[0m\u001b[0ms2\u001b[0m\u001b[1;33m)\u001b[0m\u001b[1;33m\u001b[0m\u001b[1;33m\u001b[0m\u001b[0m\n\u001b[1;32m----> 6\u001b[1;33m \u001b[0ms2\u001b[0m\u001b[1;33m[\u001b[0m\u001b[1;36m1\u001b[0m\u001b[1;33m]\u001b[0m\u001b[1;33m\u001b[0m\u001b[1;33m\u001b[0m\u001b[0m\n\u001b[0m",
      "\u001b[1;31mTypeError\u001b[0m: 'set' object is not subscriptable"
     ]
    }
   ],
   "source": [
    "#How to create set with values?\n",
    "s1 = {1,2,3,4,5,2,3,4,5,61,2,3,4,5,7,9,5,6,9,2,1,3}\n",
    "#print(s1)               #sets doest not allow duplicate values.\n",
    "s2 = {10,20,30,\"sets\",\"tuples\",\"dicts\",50.5}\n",
    "print(s2)\n",
    "s2[1]\n",
    "#Note: we can not perform indexing and slicing on set items\n",
    " #because its doest follow the order."
   ]
  },
  {
   "cell_type": "code",
   "execution_count": 97,
   "id": "f686f181",
   "metadata": {},
   "outputs": [
    {
     "name": "stdout",
     "output_type": "stream",
     "text": [
      "8\n",
      "<class 'set'>\n",
      "{(10, 100, 500), 100, 70, 40, 10, 80, 50, 20, 500.6, 'hello', 60, 30}\n"
     ]
    }
   ],
   "source": [
    "#Modifiying a set? (add(),update())\n",
    "s = {10,20,30,40,50,60,70,80}\n",
    "print(len(s))\n",
    "s.add(100)   #to add a single element into set\n",
    "s.add(500.6)\n",
    "s.add((10,100,500))\n",
    "s.add(\"hello\")\n",
    "print(type(s))\n",
    "print(s)"
   ]
  },
  {
   "cell_type": "code",
   "execution_count": 106,
   "id": "93cb2ee1",
   "metadata": {},
   "outputs": [
    {
     "name": "stdout",
     "output_type": "stream",
     "text": [
      "{5000, 10, 20, 30, 'TCs', 'p', 40, 'Google', 50, 'o', 60.5, 60, 't', 70, 80, 'n', 90, 'y', 'AI', 'python', 'h'}\n",
      "21\n"
     ]
    }
   ],
   "source": [
    "#Update():#To add multiple elements as separately.\n",
    "s = {10,20,30,40,50,60,70,80}\n",
    "s.update([\"python\",\"TCs\",\"Google\",\"AI\",5000,60.5])\n",
    "s.update([90,80,70,60,50,10,20])\n",
    "s.update(\"python\")\n",
    "print(s)\n",
    "print(len(s))"
   ]
  },
  {
   "cell_type": "code",
   "execution_count": 124,
   "id": "2cc6640b",
   "metadata": {},
   "outputs": [
    {
     "name": "stdout",
     "output_type": "stream",
     "text": [
      "initial set= {70, 5000, 10, 80, 'h', 'python', 20, 'n', 'AI', 90, 'y', 30}\n",
      "12\n",
      "after removing= {70, 10, 80, 'h', 'n', 'y', 30}\n",
      "7\n"
     ]
    }
   ],
   "source": [
    "#removing elements from the sets:\n",
    "s= {5000, 10, 20, 30, 70, 80, 'n', 90, 'y', 'AI', 'python', 'h'}\n",
    "print(\"initial set=\",s)\n",
    "print(len(s))\n",
    "s.remove(90)             #to delete specific element\n",
    "s.remove(\"python\")\n",
    "s.remove(5000)\n",
    "s.remove(\"AI\")\n",
    "s.discard(20)\n",
    "print(\"after removing=\",s)\n",
    "print(len(s))"
   ]
  },
  {
   "cell_type": "code",
   "execution_count": 147,
   "id": "2991155f",
   "metadata": {},
   "outputs": [
    {
     "name": "stdout",
     "output_type": "stream",
     "text": [
      "set()\n"
     ]
    },
    {
     "ename": "NameError",
     "evalue": "name 's' is not defined",
     "output_type": "error",
     "traceback": [
      "\u001b[1;31m---------------------------------------------------------------------------\u001b[0m",
      "\u001b[1;31mNameError\u001b[0m                                 Traceback (most recent call last)",
      "\u001b[1;32m<ipython-input-147-1bd9e7f3e8f6>\u001b[0m in \u001b[0;36m<module>\u001b[1;34m\u001b[0m\n\u001b[0;32m      6\u001b[0m \u001b[0mprint\u001b[0m\u001b[1;33m(\u001b[0m\u001b[0ms\u001b[0m\u001b[1;33m)\u001b[0m\u001b[1;33m\u001b[0m\u001b[1;33m\u001b[0m\u001b[0m\n\u001b[0;32m      7\u001b[0m \u001b[1;32mdel\u001b[0m \u001b[0ms\u001b[0m\u001b[1;33m\u001b[0m\u001b[1;33m\u001b[0m\u001b[0m\n\u001b[1;32m----> 8\u001b[1;33m \u001b[0mprint\u001b[0m\u001b[1;33m(\u001b[0m\u001b[0ms\u001b[0m\u001b[1;33m)\u001b[0m\u001b[1;33m\u001b[0m\u001b[1;33m\u001b[0m\u001b[0m\n\u001b[0m",
      "\u001b[1;31mNameError\u001b[0m: name 's' is not defined"
     ]
    }
   ],
   "source": [
    "#pop() operation: (It deletes the items from set randomly)\n",
    "s= {5000, 10, 20, 30, 70, 80, 'n', 90, 'y', 'AI', 'python', 'h'}\n",
    "#s.pop()\n",
    "#s.pop()\n",
    "s.clear()            #clear the all contents at a time\n",
    "print(s)\n",
    "del s                           #deletes the set entirely\n",
    "print(s)"
   ]
  },
  {
   "cell_type": "code",
   "execution_count": 148,
   "id": "ae9f60b2",
   "metadata": {},
   "outputs": [
    {
     "name": "stdout",
     "output_type": "stream",
     "text": [
      "['__and__', '__class__', '__contains__', '__delattr__', '__dir__', '__doc__', '__eq__', '__format__', '__ge__', '__getattribute__', '__gt__', '__hash__', '__iand__', '__init__', '__init_subclass__', '__ior__', '__isub__', '__iter__', '__ixor__', '__le__', '__len__', '__lt__', '__ne__', '__new__', '__or__', '__rand__', '__reduce__', '__reduce_ex__', '__repr__', '__ror__', '__rsub__', '__rxor__', '__setattr__', '__sizeof__', '__str__', '__sub__', '__subclasshook__', '__xor__', 'add', 'clear', 'copy', 'difference', 'difference_update', 'discard', 'intersection', 'intersection_update', 'isdisjoint', 'issubset', 'issuperset', 'pop', 'remove', 'symmetric_difference', 'symmetric_difference_update', 'union', 'update'] "
     ]
    }
   ],
   "source": [
    "#Set Operations:\n",
    "print(dir(set),end=\" \")"
   ]
  },
  {
   "cell_type": "code",
   "execution_count": 151,
   "id": "24d6e120",
   "metadata": {},
   "outputs": [
    {
     "name": "stdout",
     "output_type": "stream",
     "text": [
      "{1, 2, 3, 4, 5, 6, 7, 8}\n",
      "{1, 2, 3, 4, 5, 6, 7, 8}\n",
      "{1, 2, 3, 4, 5, 6, 7, 8}\n",
      "{1, 2, 3, 4, 5, 6, 7, 8}\n"
     ]
    }
   ],
   "source": [
    "#union() and intersection():\n",
    "setA = {1,2,3,4,5}\n",
    "setB = {4,5,6,7,8}\n",
    "print(setA|setB)          #union means set of all elements of both sets\n",
    "print(setA.union(setB))\n",
    "print(setB|setA)\n",
    "print(setB.union(setA))"
   ]
  },
  {
   "cell_type": "code",
   "execution_count": 156,
   "id": "31bb2f42",
   "metadata": {},
   "outputs": [
    {
     "name": "stdout",
     "output_type": "stream",
     "text": [
      "{4, 5}\n",
      "{4, 5}\n",
      "{4, 5}\n",
      "{4, 5}\n"
     ]
    }
   ],
   "source": [
    "#Intersection():\n",
    "setA = {1,2,3,4,5}\n",
    "setB = {4,5,6,7,8}\n",
    "print(setA&setB)\n",
    "print(setA.intersection(setB))\n",
    "print(setB&setA)\n",
    "print(setB.intersection(setA))"
   ]
  },
  {
   "cell_type": "code",
   "execution_count": null,
   "id": "592de882",
   "metadata": {},
   "outputs": [],
   "source": []
  }
 ],
 "metadata": {
  "kernelspec": {
   "display_name": "Python 3",
   "language": "python",
   "name": "python3"
  },
  "language_info": {
   "codemirror_mode": {
    "name": "ipython",
    "version": 3
   },
   "file_extension": ".py",
   "mimetype": "text/x-python",
   "name": "python",
   "nbconvert_exporter": "python",
   "pygments_lexer": "ipython3",
   "version": "3.8.8"
  }
 },
 "nbformat": 4,
 "nbformat_minor": 5
}
