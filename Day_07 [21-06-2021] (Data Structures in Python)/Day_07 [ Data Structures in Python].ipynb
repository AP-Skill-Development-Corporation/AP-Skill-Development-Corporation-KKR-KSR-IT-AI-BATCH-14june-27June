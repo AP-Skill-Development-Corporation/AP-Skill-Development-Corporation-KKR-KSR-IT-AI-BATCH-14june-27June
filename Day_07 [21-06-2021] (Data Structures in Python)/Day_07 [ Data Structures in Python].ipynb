{
 "cells": [
  {
   "cell_type": "code",
   "execution_count": null,
   "id": "5bf2598c",
   "metadata": {},
   "outputs": [],
   "source": [
    "#Agenda of the Day:\n",
    "                    1. Data Structures in Python\n",
    "                        Problem Solving "
   ]
  },
  {
   "cell_type": "code",
   "execution_count": null,
   "id": "ad5a9bf6",
   "metadata": {},
   "outputs": [],
   "source": [
    "#Introduction about DS:\n",
    "       Data Structure is way of organize our data in such a way that\n",
    "      enables you to store collections of data,relate them and perform \n",
    "      operations on them accordingly.\n",
    "      \n",
    "        (i) Organizing the data.\n",
    "        (ii) managing the data.\n",
    "        (iii) storing the data.\n",
    "        (iv) accessing the data.\n",
    "        \n",
    "#Types of Data Structures:\n",
    "             1. Lists\n",
    "             2. Tuples\n",
    "             3. Sets\n",
    "             4. Dictionaries.\n",
    "\n",
    "      \n"
   ]
  },
  {
   "cell_type": "code",
   "execution_count": null,
   "id": "2d116602",
   "metadata": {},
   "outputs": [],
   "source": [
    "#Lists:\n",
    "    Lists are used to store the data of different types in a\n",
    "    Sequential manner.\n",
    "    #Key points:\n",
    "        1. Ordered collection of different type of elements.\n",
    "        2. Its mutable (Changable)\n",
    "        3. elements in list are addressed with index value.\n",
    "              list = [1, 2, 3, 4, 5, 6 ,7, 8]\n",
    "              index = 0  1  2  3  4  5  6  7\n",
    "                \n",
    "            Index starts with 0\n",
    "        4. we use square brackets representing the lists.[]\n",
    "        5. Lists have more built-in functions."
   ]
  },
  {
   "cell_type": "code",
   "execution_count": 3,
   "id": "c637c3fa",
   "metadata": {},
   "outputs": [
    {
     "name": "stdout",
     "output_type": "stream",
     "text": [
      "<class 'list'>\n",
      "<class 'list'>\n"
     ]
    }
   ],
   "source": [
    "#How to create lists?\n",
    "li = []  #create empty list\n",
    "print(type(li))\n",
    "li1 = list()    #Way-2\n",
    "print(type(li1))"
   ]
  },
  {
   "cell_type": "code",
   "execution_count": 7,
   "id": "458c2a58",
   "metadata": {},
   "outputs": [
    {
     "name": "stdout",
     "output_type": "stream",
     "text": [
      "[1, 2, 3, 4, 5, 6, 7, 8, 9, 10]\n",
      "['a', 'b', 'c', 'd', 'Python', 'Monday']\n",
      "[True, 10, 30, 50, 'Data Science', 'Machine Learning', 4.5, 8.9]\n"
     ]
    }
   ],
   "source": [
    "#How to assign vales into lists:\n",
    "li = [1,2,3,4,5,6,7,8,9,10]   #list with interger values\n",
    "li1 = [\"a\",\"b\",\"c\",\"d\",\"Python\",\"Monday\"]  #List of strings\n",
    "li2 = [True,10,30,50,\"Data Science\",\"Machine Learning\",4.5,8.9] \n",
    "                               #list with Different types\n",
    "print(li)\n",
    "print(li1)\n",
    "print(li2)"
   ]
  },
  {
   "cell_type": "code",
   "execution_count": 15,
   "id": "ef1b06be",
   "metadata": {},
   "outputs": [
    {
     "data": {
      "text/plain": [
       "6"
      ]
     },
     "execution_count": 15,
     "metadata": {},
     "output_type": "execute_result"
    }
   ],
   "source": [
    "#Accessing the elements from the lists:  #n = 7 elements\n",
    "li = [3,6,9,\"Today\",\"Coding\",50.3,90.5]  #index : 0-n-1 0-6\n",
    "li[0]\n",
    "li[3]                  #for getting only one value\n",
    "li[6]\n",
    "li[-1]\n",
    "li[-3]\n",
    "li[-6]\n",
    "li[-7]=li[0]"
   ]
  },
  {
   "cell_type": "code",
   "execution_count": 25,
   "id": "5ed6fff2",
   "metadata": {},
   "outputs": [
    {
     "name": "stdout",
     "output_type": "stream",
     "text": [
      "[3, 6, 9, 'Today', 'Coding']\n",
      "[90.5, 50.3, 'Coding', 'Today', 9, 6, 3]\n",
      "[3, 6, 9, 'Today', 'Coding', 50.3, 90.5]\n",
      "[9, 'Today', 'Coding', 50.3]\n",
      "['b', 'c', 'd', 'Python']\n"
     ]
    }
   ],
   "source": [
    "#How to access the group of values: (slicing : operator)\n",
    "li = [3,6,9,\"Today\",\"Coding\",50.3,90.5]\n",
    "li1 = [\"a\",\"b\",\"c\",\"d\",\"Python\",\"Monday\"]\n",
    "print(li[0:5])                     #Positive index\n",
    "print(li[::-1])       #reverse the given list of elements\n",
    "print(li[0:])\n",
    "print(li[-5:-1])          #range of negative index\n",
    "print(li1[1:5])"
   ]
  },
  {
   "cell_type": "code",
   "execution_count": 35,
   "id": "f6486e83",
   "metadata": {},
   "outputs": [
    {
     "name": "stdout",
     "output_type": "stream",
     "text": [
      "initial list: [10, 20, 30, 40, 50, 60]\n",
      "appeneded list: [10, 20, 30, 40, 50, 60, 70, 80, 'coding', [1000, 'Data Science', 90.1]]\n"
     ]
    }
   ],
   "source": [
    "#Adding elements to lists? (append(),insert(),extend())\n",
    "#append(): (its adds the elemets into the its as group of elements)\n",
    "li = [10,20,30,40,50,60]\n",
    "print(\"initial list:\",li)\n",
    "li.append(70)                       #individual elements adding\n",
    "li.append(80)\n",
    "li.append(\"coding\")\n",
    "li.append([1000,\"Data Science\",90.1])\n",
    "print(\"appeneded list:\",li)"
   ]
  },
  {
   "cell_type": "code",
   "execution_count": 40,
   "id": "f28b0fbd",
   "metadata": {},
   "outputs": [
    {
     "name": "stdout",
     "output_type": "stream",
     "text": [
      "initial list: [10, 20, 30, 40, 50, 60]\n",
      "6\n",
      "extended list: [10, 20, 30, 40, 50, 60, 1000, 'Data Science', 90.1, 30.5, 80.6, True]\n",
      "12\n"
     ]
    }
   ],
   "source": [
    "#Extend() operation:\n",
    "#(this Functions adds the elements one by one into list)\n",
    "li = [10,20,30,40,50,60]\n",
    "print(\"initial list:\",li)\n",
    "print(len(li))\n",
    "li.extend([1000,\"Data Science\",90.1])\n",
    "li.extend([30.5,80.6,True])\n",
    "print(\"extended list:\",li)\n",
    "print(len(li))"
   ]
  },
  {
   "cell_type": "code",
   "execution_count": 55,
   "id": "9d8fc4ea",
   "metadata": {},
   "outputs": [
    {
     "name": "stdout",
     "output_type": "stream",
     "text": [
      "initial list: [10, 20, 30, 40, 50, 60]\n",
      "updated list: ['kits', 6000, 10, 20, [90, 100, 500], 30, 40, ['hello', 'Kits', 1000.6], 50, 60]\n"
     ]
    }
   ],
   "source": [
    "#insert(): #syntax:  li.insert(index,value)\n",
    "\n",
    "li = [10,20,30,40,50,60]\n",
    "print(\"initial list:\",li)\n",
    "li.insert(0,\"kits\")    #insert new value at index 0\n",
    "li.insert(3,[90,100,500])\n",
    "li.insert(6,[\"hello\",\"Kits\",1000.6])\n",
    "li.insert(1,6000)\n",
    "print(\"updated list:\",li)"
   ]
  },
  {
   "cell_type": "code",
   "execution_count": null,
   "id": "8ea2735c",
   "metadata": {},
   "outputs": [],
   "source": [
    "#How to explore and check all built-in \n",
    "#functions of any function,module,datastructure,\n",
    "#class,package."
   ]
  },
  {
   "cell_type": "code",
   "execution_count": 58,
   "id": "31aacc5a",
   "metadata": {},
   "outputs": [
    {
     "name": "stdout",
     "output_type": "stream",
     "text": [
      "['__add__', '__class__', '__contains__', '__delattr__', '__dir__', '__doc__', '__eq__', '__format__', '__ge__', '__getattribute__', '__getitem__', '__getnewargs__', '__gt__', '__hash__', '__init__', '__init_subclass__', '__iter__', '__le__', '__len__', '__lt__', '__mod__', '__mul__', '__ne__', '__new__', '__reduce__', '__reduce_ex__', '__repr__', '__rmod__', '__rmul__', '__setattr__', '__sizeof__', '__str__', '__subclasshook__', 'capitalize', 'casefold', 'center', 'count', 'encode', 'endswith', 'expandtabs', 'find', 'format', 'format_map', 'index', 'isalnum', 'isalpha', 'isascii', 'isdecimal', 'isdigit', 'isidentifier', 'islower', 'isnumeric', 'isprintable', 'isspace', 'istitle', 'isupper', 'join', 'ljust', 'lower', 'lstrip', 'maketrans', 'partition', 'replace', 'rfind', 'rindex', 'rjust', 'rpartition', 'rsplit', 'rstrip', 'split', 'splitlines', 'startswith', 'strip', 'swapcase', 'title', 'translate', 'upper', 'zfill'] "
     ]
    }
   ],
   "source": [
    "print(dir(str),end=\" \")"
   ]
  },
  {
   "cell_type": "code",
   "execution_count": 56,
   "id": "b36361be",
   "metadata": {},
   "outputs": [
    {
     "name": "stdout",
     "output_type": "stream",
     "text": [
      "['__add__', '__class__', '__contains__', '__delattr__', '__delitem__', '__dir__', '__doc__', '__eq__', '__format__', '__ge__', '__getattribute__', '__getitem__', '__gt__', '__hash__', '__iadd__', '__imul__', '__init__', '__init_subclass__', '__iter__', '__le__', '__len__', '__lt__', '__mul__', '__ne__', '__new__', '__reduce__', '__reduce_ex__', '__repr__', '__reversed__', '__rmul__', '__setattr__', '__setitem__', '__sizeof__', '__str__', '__subclasshook__', 'append', 'clear', 'copy', 'count', 'extend', 'index', 'insert', 'pop', 'remove', 'reverse', 'sort'] "
     ]
    }
   ],
   "source": [
    "print(dir(list),end=\" \")"
   ]
  },
  {
   "cell_type": "code",
   "execution_count": 66,
   "id": "2074a693",
   "metadata": {},
   "outputs": [
    {
     "name": "stdout",
     "output_type": "stream",
     "text": [
      "[1, 2, 3, 'A', 'B', 'C']\n",
      "[1, 2, 3, 'A', 'B', 'C']\n",
      "[1, 2, 3, 'A', 'B', 'C']\n",
      "[]\n"
     ]
    }
   ],
   "source": [
    "#copy and clear():\n",
    "li = [1,2,3,\"A\",\"B\",\"C\"]\n",
    "li1 = []             #empty list\n",
    "li1=li.copy()\n",
    "print(li)\n",
    "print(li1)\n",
    "li.clear()\n",
    "print(li1)\n",
    "print(li)"
   ]
  },
  {
   "cell_type": "code",
   "execution_count": 81,
   "id": "63a1fe3c",
   "metadata": {},
   "outputs": [
    {
     "name": "stdout",
     "output_type": "stream",
     "text": [
      "3\n",
      "2\n",
      "1\n",
      "2\n"
     ]
    }
   ],
   "source": [
    "#index() and count() :            #stackoverflow\n",
    "li = [50,100,150,\"Cse\",\"AI\",\"IT\",7500,90.8,100,50,100,\"AI\",\"IT\"]\n",
    "len(li)\n",
    "#print(li.index(\"AI\"))\n",
    "#print(li.index(7500))\n",
    "#print(li.index(150))\n",
    "#print(li[3])\n",
    "#print(li.index(\"Cse\"))\n",
    "print(li.count(100))\n",
    "print(li.count(50))\n",
    "print(li.count(150))\n",
    "print(li.count(\"AI\"))"
   ]
  },
  {
   "cell_type": "code",
   "execution_count": 99,
   "id": "b9d246eb",
   "metadata": {},
   "outputs": [
    {
     "name": "stdout",
     "output_type": "stream",
     "text": [
      "initial list [100, 90, 80, 70, 60, 50, 40, 30, 20, 10]\n",
      "after deletion: []\n"
     ]
    }
   ],
   "source": [
    "#sorted() and deleting the elements from the lists:\n",
    "li = [100,90,80,70,60,50,40,30,20,10]\n",
    "#print(sorted(li))\n",
    "print(\"initial list\",li)\n",
    "#li.remove(50)   #this fuction deletes individual element\n",
    "#li.remove(30)\n",
    "#li.remove(100)\n",
    "li.remove\n",
    "li.pop()      #this function deletes the elements from right to left.\n",
    "li.pop()\n",
    "li.pop()\n",
    "li.pop()\n",
    "li.pop()\n",
    "li.pop()\n",
    "li.pop()\n",
    "li.pop()\n",
    "li.pop()\n",
    "li.pop()\n",
    "print(\"after deletion:\",li)"
   ]
  },
  {
   "cell_type": "code",
   "execution_count": 102,
   "id": "1e9ece38",
   "metadata": {},
   "outputs": [
    {
     "data": {
      "text/plain": [
       "[80, 70, 60, 50, 40, 30, 20, 10]"
      ]
     },
     "execution_count": 102,
     "metadata": {},
     "output_type": "execute_result"
    }
   ],
   "source": [
    "#li.remove(x)  #its deletes one element at time.\n",
    "li = [[100,90],80,70,60,50,40,30,20,10]\n",
    "li.remove([100,90])\n",
    "li"
   ]
  },
  {
   "cell_type": "code",
   "execution_count": 110,
   "id": "1e17e134",
   "metadata": {},
   "outputs": [
    {
     "name": "stdout",
     "output_type": "stream",
     "text": [
      "[80, 70, 50, 40]\n"
     ]
    }
   ],
   "source": [
    "li = [[100,90],80,70,60,50,40,30,20,10]\n",
    "li.pop()\n",
    "li.pop()\n",
    "li.pop()\n",
    "li.pop(3)\n",
    "li.pop(0)\n",
    "print(li)"
   ]
  },
  {
   "cell_type": "code",
   "execution_count": 112,
   "id": "1d9e6380",
   "metadata": {},
   "outputs": [
    {
     "data": {
      "text/plain": [
       "[10, 20, 30, 40, 50, 60, 70, 80, [100, 90]]"
      ]
     },
     "execution_count": 112,
     "metadata": {},
     "output_type": "execute_result"
    }
   ],
   "source": [
    "#reverse() its reverse the all elements from given input list\n",
    "li = [[100,90],80,70,60,50,40,30,20,10]\n",
    "li.reverse()\n",
    "li"
   ]
  },
  {
   "cell_type": "code",
   "execution_count": 113,
   "id": "eb6cf82d",
   "metadata": {},
   "outputs": [
    {
     "name": "stdout",
     "output_type": "stream",
     "text": [
      "[100, 90] 80 70 60 50 40 30 20 10 "
     ]
    }
   ],
   "source": [
    "#we can access the elements from the list by iterating\n",
    "\n",
    "li = [[100,90],80,70,60,50,40,30,20,10]\n",
    "for val in li:\n",
    "    print(val,end=\" \")"
   ]
  },
  {
   "cell_type": "code",
   "execution_count": 135,
   "id": "1754fc87",
   "metadata": {},
   "outputs": [
    {
     "name": "stdout",
     "output_type": "stream",
     "text": [
      "12 16 24 50 100 "
     ]
    }
   ],
   "source": [
    "#example:\n",
    "li = [12,16,19,24,50,25,91,100]\n",
    "for i in li:\n",
    "    if i%2==0:\n",
    "        print(i,end=\" \")"
   ]
  },
  {
   "cell_type": "code",
   "execution_count": 137,
   "id": "5b273f7b",
   "metadata": {},
   "outputs": [
    {
     "name": "stdout",
     "output_type": "stream",
     "text": [
      "even list: [2, 4, 6, 8, 10, 12, 14, 16, 18, 20, 22, 24, 26, 28, 30, 32, 34, 36, 38, 40, 42, 44, 46, 48, 50, 52, 54, 56, 58, 60, 62, 64, 66, 68, 70, 72, 74, 76, 78, 80, 82, 84, 86, 88, 90, 92, 94, 96, 98, 100]\n",
      "odd num list: [1, 3, 5, 7, 9, 11, 13, 15, 17, 19, 21, 23, 25, 27, 29, 31, 33, 35, 37, 39, 41, 43, 45, 47, 49, 51, 53, 55, 57, 59, 61, 63, 65, 67, 69, 71, 73, 75, 77, 79, 81, 83, 85, 87, 89, 91, 93, 95, 97, 99]\n"
     ]
    }
   ],
   "source": [
    "#given range (1,100):\n",
    "evennum = []\n",
    "oddnum = []\n",
    "for i in range(1,101):\n",
    "    if i%2==0:\n",
    "        evennum.append(i)\n",
    "    else:\n",
    "        oddnum.append(i)\n",
    "print(\"even list:\",evennum)\n",
    "print(\"odd num list:\",oddnum)"
   ]
  },
  {
   "cell_type": "code",
   "execution_count": null,
   "id": "baf3d5a5",
   "metadata": {},
   "outputs": [],
   "source": []
  }
 ],
 "metadata": {
  "kernelspec": {
   "display_name": "Python 3",
   "language": "python",
   "name": "python3"
  },
  "language_info": {
   "codemirror_mode": {
    "name": "ipython",
    "version": 3
   },
   "file_extension": ".py",
   "mimetype": "text/x-python",
   "name": "python",
   "nbconvert_exporter": "python",
   "pygments_lexer": "ipython3",
   "version": "3.8.8"
  }
 },
 "nbformat": 4,
 "nbformat_minor": 5
}
