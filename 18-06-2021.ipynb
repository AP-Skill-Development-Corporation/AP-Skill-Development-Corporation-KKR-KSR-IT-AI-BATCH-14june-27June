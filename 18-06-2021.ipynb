{
 "cells": [
  {
   "cell_type": "code",
   "execution_count": 2,
   "metadata": {},
   "outputs": [
    {
     "name": "stdout",
     "output_type": "stream",
     "text": [
      "a b c d e f g h i j k l m n o p q r s t u v w x y z "
     ]
    }
   ],
   "source": [
    "# a b c d e......z\n",
    "for i in range(ord('a'),ord('z')+1):\n",
    "    print(chr(i),end=' ')"
   ]
  },
  {
   "cell_type": "code",
   "execution_count": 4,
   "metadata": {},
   "outputs": [
    {
     "name": "stdout",
     "output_type": "stream",
     "text": [
      "A B C D E F G H I J K L M N O P Q R S T U V W X Y Z "
     ]
    }
   ],
   "source": [
    "# A B C D..............Z\n",
    "for i in range(ord('A'),ord('Z')+1):\n",
    "    print(chr(i),end=' ')"
   ]
  },
  {
   "cell_type": "code",
   "execution_count": null,
   "metadata": {},
   "outputs": [],
   "source": [
    "B---->66\n",
    "D---->68\n",
    "..\n",
    ".\n",
    ".\n",
    ".\n",
    ".\n",
    "Z--->"
   ]
  },
  {
   "cell_type": "code",
   "execution_count": 5,
   "metadata": {},
   "outputs": [
    {
     "name": "stdout",
     "output_type": "stream",
     "text": [
      "B ----> 66\n",
      "D ----> 68\n",
      "F ----> 70\n",
      "H ----> 72\n",
      "J ----> 74\n",
      "L ----> 76\n",
      "N ----> 78\n",
      "P ----> 80\n",
      "R ----> 82\n",
      "T ----> 84\n",
      "V ----> 86\n",
      "X ----> 88\n",
      "Z ----> 90\n"
     ]
    }
   ],
   "source": [
    "for i in range(ord('A'),ord('Z')+1):\n",
    "    if(i%2==0):\n",
    "        print(chr(i),\"---->\",i)"
   ]
  },
  {
   "cell_type": "code",
   "execution_count": null,
   "metadata": {},
   "outputs": [],
   "source": [
    "# while loop\n",
    "    while loop is used to execute a block of statements\n",
    "    repeatedly until a given condition is satisfied..\n",
    "    "
   ]
  },
  {
   "cell_type": "code",
   "execution_count": null,
   "metadata": {},
   "outputs": [],
   "source": [
    "while loop syntax\n",
    "    \n",
    "    initialization\n",
    "    while(condition):\n",
    "        statements\n",
    "        incre/decrement"
   ]
  },
  {
   "cell_type": "code",
   "execution_count": 6,
   "metadata": {},
   "outputs": [
    {
     "name": "stdout",
     "output_type": "stream",
     "text": [
      "1 2 3 4 5 6 7 8 9 10 "
     ]
    }
   ],
   "source": [
    "# 1 to 10 numbers printing using while loop\n",
    "i=1\n",
    "while(i<=10):\n",
    "    print(i,end=' ')\n",
    "    i=i+1"
   ]
  },
  {
   "cell_type": "code",
   "execution_count": 8,
   "metadata": {},
   "outputs": [
    {
     "name": "stdout",
     "output_type": "stream",
     "text": [
      "10 9 8 7 6 5 4 3 2 1 "
     ]
    }
   ],
   "source": [
    "# 10 to 1 numbers printing using while loop\n",
    "i=10\n",
    "while(i>=1):\n",
    "    print(i,end=' ')\n",
    "    i=i-1"
   ]
  },
  {
   "cell_type": "code",
   "execution_count": 9,
   "metadata": {},
   "outputs": [
    {
     "name": "stdout",
     "output_type": "stream",
     "text": [
      "10 7 4 1 "
     ]
    }
   ],
   "source": [
    "# 10 7 4 1\n",
    "i=10\n",
    "while(i>=1):\n",
    "    print(i,end=' ')\n",
    "    i=i-3"
   ]
  },
  {
   "cell_type": "code",
   "execution_count": 13,
   "metadata": {},
   "outputs": [
    {
     "name": "stdout",
     "output_type": "stream",
     "text": [
      "Enter any number: 347856\n",
      "digit count= 6\n"
     ]
    }
   ],
   "source": [
    "# i/p: 27646\n",
    "# o/p: digits count=5\n",
    "s=int(input('Enter any number: '))\n",
    "c=0\n",
    "while(s>0): # (s!=0)# 345>0     34>0(T) 3>0(T) 0>0(F)\n",
    "    c=c+1           # 0+1=1       1+1=2   2+1=3\n",
    "    s=s//10         # 345//10=34  34//10=3 3//10=0\n",
    "print(\"digit count=\",c)"
   ]
  },
  {
   "cell_type": "code",
   "execution_count": 12,
   "metadata": {},
   "outputs": [
    {
     "data": {
      "text/plain": [
       "34"
      ]
     },
     "execution_count": 12,
     "metadata": {},
     "output_type": "execute_result"
    }
   ],
   "source": [
    "345//10"
   ]
  },
  {
   "cell_type": "code",
   "execution_count": 15,
   "metadata": {},
   "outputs": [
    {
     "name": "stdout",
     "output_type": "stream",
     "text": [
      "8265\n",
      "reverse= 5628\n"
     ]
    }
   ],
   "source": [
    "# 674   \n",
    "# 476\n",
    "d=int(input())\n",
    "rev=0    \n",
    "while(d!=0):    #678!=0(T)   67!=0(T)  6!=0(T) 0!=0(F)\n",
    "    r=d%10     #674%10=4    67%10=7    6%10=6\n",
    "    rev=rev*10+r # 0*10+4=4 4*10+7=47 47*10+6=476\n",
    "    d=d//10  # 674//10=67   67//10=6   6//10=0\n",
    "print(\"reverse=\",rev)"
   ]
  },
  {
   "cell_type": "code",
   "execution_count": 18,
   "metadata": {},
   "outputs": [
    {
     "name": "stdout",
     "output_type": "stream",
     "text": [
      "456\n",
      "Not Palindrome\n"
     ]
    }
   ],
   "source": [
    "# 674   \n",
    "# 476\n",
    "d=int(input())\n",
    "rev=0\n",
    "s=d\n",
    "while(d!=0):    #678!=0(T)   67!=0(T)  6!=0(T) 0!=0(F)\n",
    "    r=d%10     #674%10=4    67%10=7    6%10=6\n",
    "    rev=rev*10+r # 0*10+4=4 4*10+7=47 47*10+6=476\n",
    "    d=d//10  # 674//10=67   67//10=6   6//10=0\n",
    "if(s==rev):\n",
    "    print(\"Palindrome\")\n",
    "else:\n",
    "    print(\"Not Palindrome\")"
   ]
  },
  {
   "cell_type": "code",
   "execution_count": 20,
   "metadata": {},
   "outputs": [
    {
     "name": "stdout",
     "output_type": "stream",
     "text": [
      "65986\n",
      "6 8 6 "
     ]
    }
   ],
   "source": [
    "# 6392\n",
    "# 2 6\n",
    "v=int(input())  # 6392   639  63\n",
    "while(v>0):   #6392>0(t) 639>0(T) 63>0(T) 6>0(T) 0>0(F)\n",
    "    r=v%10  # 6392%10=2  639%10=9  63%10=3 6%10=6\n",
    "    if(r%2==0): # 2%2==0(T) 9%2==0(F) 3%2==0(F) 6%2==0(T)\n",
    "        print(r,end=' ') # 2  6\n",
    "    v=v//10    #6392//10=639 639//10=63 63//10=6 6//10=0"
   ]
  },
  {
   "cell_type": "code",
   "execution_count": null,
   "metadata": {},
   "outputs": [],
   "source": [
    "# 32987\n",
    "\n",
    "o/p: 7 9 3\n",
    "    odd digits sum=19"
   ]
  },
  {
   "cell_type": "code",
   "execution_count": 21,
   "metadata": {},
   "outputs": [
    {
     "name": "stdout",
     "output_type": "stream",
     "text": [
      "23985\n",
      "5 9 3 \n",
      "odd numbers sum= 17\n"
     ]
    }
   ],
   "source": [
    "n=int(input())\n",
    "odd_sum=0\n",
    "while(n>0): #237>0(T)  23>0(T)  2>0(T) 0>0(F)\n",
    "    r=n%10  237%10=7 23%10=3 2%10=2\n",
    "    if(r%2==1): # 7%2==1(T) 3%2==1(T) 2%2==1(F)\n",
    "        print(r,end=' ') # 7 1\n",
    "        odd_sum=odd_sum+r #0+7=7 7+3=10\n",
    "    n=n//10   # 237//10=23 23//10=2  2//10=0\n",
    "print(\"\\nodd numbers sum=\",odd_sum)"
   ]
  },
  {
   "cell_type": "markdown",
   "metadata": {},
   "source": [
    "# Functions\n",
    "\n",
    "--> A function is a group of related statements that\n",
    "    performs a specific task..."
   ]
  },
  {
   "cell_type": "code",
   "execution_count": null,
   "metadata": {},
   "outputs": [],
   "source": [
    "# it avoids repetition\n",
    "  code reusable"
   ]
  },
  {
   "cell_type": "code",
   "execution_count": null,
   "metadata": {},
   "outputs": [],
   "source": [
    "# def"
   ]
  },
  {
   "cell_type": "code",
   "execution_count": null,
   "metadata": {},
   "outputs": [],
   "source": [
    "1.built-in functions : print,def,ord,min,max,.......\n",
    "2.user-defined functions: 4 types\n",
    "    1.with arguments with return value\n",
    "    2.with arguments without return value\n",
    "    3.without arguments with return value\n",
    "    4.without arguments without return value"
   ]
  },
  {
   "cell_type": "code",
   "execution_count": null,
   "metadata": {},
   "outputs": [],
   "source": [
    "# Functions syntax:\n",
    "   \n",
    "    def functionname(arguments/parameters):\n",
    "        statements\n",
    "    functionname(parameters/arguments)"
   ]
  },
  {
   "cell_type": "code",
   "execution_count": 22,
   "metadata": {},
   "outputs": [
    {
     "data": {
      "text/plain": [
       "30"
      ]
     },
     "execution_count": 22,
     "metadata": {},
     "output_type": "execute_result"
    }
   ],
   "source": [
    "# 1.with arguments with return value\n",
    "# adding two numbers\n",
    "a=10\n",
    "b=20\n",
    "def add(a,b):\n",
    "    return a+b\n",
    "add(a,b)"
   ]
  },
  {
   "cell_type": "code",
   "execution_count": 24,
   "metadata": {},
   "outputs": [
    {
     "name": "stdout",
     "output_type": "stream",
     "text": [
      "56\n",
      "22\n"
     ]
    },
    {
     "data": {
      "text/plain": [
       "78"
      ]
     },
     "execution_count": 24,
     "metadata": {},
     "output_type": "execute_result"
    }
   ],
   "source": [
    "# 1.with arguments with return value\n",
    "# adding two numbers\n",
    "a=int(input())\n",
    "b=int(input())\n",
    "def add1(a,b):\n",
    "    return a+b\n",
    "add1(a,b)"
   ]
  },
  {
   "cell_type": "code",
   "execution_count": 25,
   "metadata": {},
   "outputs": [
    {
     "name": "stdout",
     "output_type": "stream",
     "text": [
      "545\n",
      "224\n"
     ]
    },
    {
     "data": {
      "text/plain": [
       "769"
      ]
     },
     "execution_count": 25,
     "metadata": {},
     "output_type": "execute_result"
    }
   ],
   "source": [
    "# 2.with arguments without return value\n",
    "# adding two numbers\n",
    "a=int(input())\n",
    "b=int(input())\n",
    "def add3(a,b):\n",
    "    print(a+b)\n",
    "add1(a,b)"
   ]
  },
  {
   "cell_type": "code",
   "execution_count": 28,
   "metadata": {},
   "outputs": [
    {
     "name": "stdout",
     "output_type": "stream",
     "text": [
      "385\n",
      "2335\n"
     ]
    },
    {
     "data": {
      "text/plain": [
       "2720"
      ]
     },
     "execution_count": 28,
     "metadata": {},
     "output_type": "execute_result"
    }
   ],
   "source": [
    "# 3.without arguments with return value\n",
    "a=int(input())\n",
    "b=int(input())\n",
    "def add4():\n",
    "    return a+b\n",
    "add4()"
   ]
  },
  {
   "cell_type": "code",
   "execution_count": 29,
   "metadata": {},
   "outputs": [
    {
     "name": "stdout",
     "output_type": "stream",
     "text": [
      "26\n",
      "13\n",
      "39\n"
     ]
    }
   ],
   "source": [
    "# 4.without arguments without return value\n",
    "a=int(input())\n",
    "b=int(input())\n",
    "def add4():\n",
    "    print(a+b)\n",
    "add4()"
   ]
  },
  {
   "cell_type": "code",
   "execution_count": 31,
   "metadata": {},
   "outputs": [
    {
     "name": "stdout",
     "output_type": "stream",
     "text": [
      "4\n",
      "Even Number\n"
     ]
    }
   ],
   "source": [
    "# i/p: 5\n",
    "# o/p: odd number\n",
    "n=int(input())\n",
    "def evenorodd(n):  # 4\n",
    "    if(n%2==0):  #4%2==0\n",
    "        print(\"Even Number\")\n",
    "    else:\n",
    "        print(\"Odd numeber\")\n",
    "evenorodd(n)"
   ]
  },
  {
   "cell_type": "code",
   "execution_count": 32,
   "metadata": {},
   "outputs": [
    {
     "name": "stdout",
     "output_type": "stream",
     "text": [
      "average= 5.5\n"
     ]
    }
   ],
   "source": [
    "# average=5.5\n",
    "# 1 to 10 numbers\n",
    "def average():\n",
    "    count=total=0\n",
    "    for i in range(1,11):  # 1   2     3m    4\n",
    "        count=count+1    # 0+1=1 1+1=2 2+1=3 3+1=4    10\n",
    "        total=total+i    # 0+1=1  1+2=3 3+3=6 6+4=10.....55\n",
    "    print(\"average=\",total/count)  #55/10=5.5\n",
    "average()"
   ]
  },
  {
   "cell_type": "code",
   "execution_count": null,
   "metadata": {},
   "outputs": [],
   "source": [
    "# prime number program using function\n",
    "# perfect number program using function"
   ]
  }
 ],
 "metadata": {
  "kernelspec": {
   "display_name": "Python 3",
   "language": "python",
   "name": "python3"
  },
  "language_info": {
   "codemirror_mode": {
    "name": "ipython",
    "version": 3
   },
   "file_extension": ".py",
   "mimetype": "text/x-python",
   "name": "python",
   "nbconvert_exporter": "python",
   "pygments_lexer": "ipython3",
   "version": "3.7.3"
  }
 },
 "nbformat": 4,
 "nbformat_minor": 2
}
